{
 "cells": [
  {
   "cell_type": "code",
   "execution_count": 1,
   "id": "124238c0",
   "metadata": {},
   "outputs": [],
   "source": [
    "import tensorflow as tf\n",
    "from tensorflow import keras\n",
    "from sklearn.model_selection import train_test_split\n",
    "import glob\n",
    "import os\n",
    "import numpy as np\n",
    "import re\n",
    "os.environ['KMP_DUPLICATE_LIB_OK']='True'"
   ]
  },
  {
   "cell_type": "code",
   "execution_count": 2,
   "id": "a864da0a",
   "metadata": {},
   "outputs": [
    {
     "data": {
      "text/plain": [
       "[name: \"/device:CPU:0\"\n",
       " device_type: \"CPU\"\n",
       " memory_limit: 268435456\n",
       " locality {\n",
       " }\n",
       " incarnation: 2013436985499965351\n",
       " xla_global_id: -1,\n",
       " name: \"/device:GPU:0\"\n",
       " device_type: \"GPU\"\n",
       " memory_limit: 1723124942\n",
       " locality {\n",
       "   bus_id: 1\n",
       "   links {\n",
       "   }\n",
       " }\n",
       " incarnation: 6897702803977209300\n",
       " physical_device_desc: \"device: 0, name: NVIDIA GeForce RTX 3050 Ti Laptop GPU, pci bus id: 0000:01:00.0, compute capability: 8.6\"\n",
       " xla_global_id: 416903419]"
      ]
     },
     "execution_count": 2,
     "metadata": {},
     "output_type": "execute_result"
    }
   ],
   "source": [
    "from tensorflow.python.client import device_lib\n",
    "device_lib.list_local_devices()"
   ]
  },
  {
   "cell_type": "markdown",
   "id": "90cd62fc",
   "metadata": {},
   "source": [
    "## 데이터 불러오기"
   ]
  },
  {
   "cell_type": "code",
   "execution_count": 4,
   "id": "eb391e0f",
   "metadata": {},
   "outputs": [
    {
     "data": {
      "text/plain": [
       "['C:/users/juwon/practice_aiffel/lyricist/data/lyrics\\\\adele.txt',\n",
       " 'C:/users/juwon/practice_aiffel/lyricist/data/lyrics\\\\al-green.txt',\n",
       " 'C:/users/juwon/practice_aiffel/lyricist/data/lyrics\\\\alicia-keys.txt',\n",
       " 'C:/users/juwon/practice_aiffel/lyricist/data/lyrics\\\\amy-winehouse.txt',\n",
       " 'C:/users/juwon/practice_aiffel/lyricist/data/lyrics\\\\beatles.txt']"
      ]
     },
     "execution_count": 4,
     "metadata": {},
     "output_type": "execute_result"
    }
   ],
   "source": [
    "txt_file_path = 'C:/users/juwon/practice_aiffel/lyricist/data/lyrics/*'\n",
    "txt_list = glob.glob(txt_file_path)\n",
    "txt_list[:5]"
   ]
  },
  {
   "cell_type": "code",
   "execution_count": 5,
   "id": "48e09158",
   "metadata": {},
   "outputs": [
    {
     "name": "stdout",
     "output_type": "stream",
     "text": [
      "데이터 크기: 187088\n",
      "['Looking for some education', 'Made my way into the night', 'All that bullshit conversation', \"Baby, can't you read the signs? I won't bore you with the details, baby\", \"I don't even wanna waste your time\", \"Let's just say that maybe\", 'You could help me ease my mind', \"I ain't Mr. Right But if you're looking for fast love\", \"If that's love in your eyes\", \"It's more than enough\"]\n"
     ]
    }
   ],
   "source": [
    "raw_corpus = []\n",
    "for txt_file in txt_list :\n",
    "    with open(txt_file,'r',encoding='UTF-8') as f :\n",
    "        sentences = f.read().splitlines()\n",
    "        raw_corpus.extend(sentences)\n",
    "print(\"데이터 크기:\", len(raw_corpus))\n",
    "print(raw_corpus[:10])"
   ]
  },
  {
   "cell_type": "markdown",
   "id": "46f76bbc",
   "metadata": {},
   "source": [
    "## 데이터 정제"
   ]
  },
  {
   "cell_type": "code",
   "execution_count": 6,
   "id": "dd9e88cd",
   "metadata": {},
   "outputs": [],
   "source": [
    "def preprocessing_sentence(sentence) :\n",
    "    sentence = sentence.lower().strip() #1\n",
    "    sentence = re.sub(r'([?.!,¿])', r\" \\1 \", sentence) #2\n",
    "    sentence = re.sub(r'[\" \"]+', \" \", sentence) #3\n",
    "    sentence = re.sub(r'[^a-zA-Z?.,!¿]+', \" \", sentence) #4\n",
    "    sentence = sentence.strip() #5\n",
    "    sentence = '<start> '+sentence+' <end>' #6\n",
    "    return sentence"
   ]
  },
  {
   "cell_type": "code",
   "execution_count": 8,
   "id": "87265025",
   "metadata": {},
   "outputs": [
    {
     "name": "stdout",
     "output_type": "stream",
     "text": [
      "['<start> and i just want to make love to you <end>', '<start> love to you , ooh yeah <end>', '<start> love to you , yeah <end>', '<start> oh i just want to make love to you happy new year ! i heard that you re settled down <end>', '<start> that you found a girl and you re married now <end>', '<start> i heard that your dreams came true <end>', '<start> guess she gave you things i didn t give to you old friend , why are you so shy ? <end>', '<start> ain t like you to hold back or hide from the light i hate to turn up out of the blue , uninvited <end>', '<start> but i couldn t stay away , i couldn t fight it <end>', '<start> i had hoped you d see my face and that you d be reminded <end>']\n"
     ]
    }
   ],
   "source": [
    "corpus = []\n",
    "for sentence in raw_corpus :\n",
    "    if len(sentence) == 0 : continue\n",
    "    if sentence[-1] == ':' : continue\n",
    "      \n",
    "    preprocessed_sentence = preprocessing_sentence(sentence)\n",
    "    corpus.append(preprocessed_sentence)\n",
    "    \n",
    "print(corpus[:5])"
   ]
  },
  {
   "cell_type": "code",
   "execution_count": 10,
   "id": "f8d9830b",
   "metadata": {},
   "outputs": [],
   "source": [
    "def tokenize(corpus) : \n",
    "    tokenizer = tf.keras.preprocessing.text.Tokenizer(num_words = 12000,\n",
    "                                                     filters = '',\n",
    "                                                     oov_token = \"<unk>\")\n",
    "    tokenizer.fit_on_texts(corpus)\n",
    "    tensor = tokenizer.texts_to_sequences(corpus)\n",
    "    \n",
    "    tensor = [sentence for sentence in tensor if len(sentence) <= 20] # 단어의 개수가 20개 이하인 문장 삭제\n",
    "#     for i,j in enumerate(tensor) :\n",
    "#         if len(j) > 20:\n",
    "#             print(i,j)\n",
    "#             del tensor[i]\n",
    "\n",
    "    tensor = tf.keras.preprocessing.sequence.pad_sequences(tensor, padding='post', maxlen=20)\n",
    "    return tensor, tokenizer"
   ]
  },
  {
   "cell_type": "code",
   "execution_count": 11,
   "id": "f0137f61",
   "metadata": {},
   "outputs": [
    {
     "data": {
      "text/plain": [
       "169553"
      ]
     },
     "execution_count": 11,
     "metadata": {},
     "output_type": "execute_result"
    }
   ],
   "source": [
    "tensor, tokenizer = tokenize(corpus)\n",
    "len(tensor)"
   ]
  },
  {
   "cell_type": "code",
   "execution_count": 12,
   "id": "901f0a5a",
   "metadata": {},
   "outputs": [],
   "source": [
    "for i in tensor :\n",
    "    if i[0] != 2 : \n",
    "        print(i)\n",
    "    if i[-1] != 0 and i[-1] !=3 :\n",
    "        print(i)  # <start> =2, <end> =3,<PAD> = 0 이므로 2로 시작, 0과3으로 끝나지 않는 문장 확인"
   ]
  },
  {
   "cell_type": "code",
   "execution_count": 13,
   "id": "71021953",
   "metadata": {},
   "outputs": [
    {
     "name": "stdout",
     "output_type": "stream",
     "text": [
      "1 : <unk>\n",
      "2 : <start>\n",
      "3 : <end>\n",
      "4 : ,\n",
      "5 : i\n",
      "6 : the\n",
      "7 : you\n",
      "8 : and\n",
      "9 : a\n",
      "10 : to\n"
     ]
    }
   ],
   "source": [
    "for idx in tokenizer.index_word :\n",
    "    print(idx, \":\",tokenizer.index_word[idx])\n",
    "    if idx >= 10 : break"
   ]
  },
  {
   "cell_type": "code",
   "execution_count": 14,
   "id": "43f4098d",
   "metadata": {},
   "outputs": [
    {
     "name": "stdout",
     "output_type": "stream",
     "text": [
      "[   2  304   28   99 4811    3    0    0    0    0    0    0    0    0\n",
      "    0    0    0    0    0]\n",
      "[ 304   28   99 4811    3    0    0    0    0    0    0    0    0    0\n",
      "    0    0    0    0    0]\n"
     ]
    },
    {
     "data": {
      "text/plain": [
       "19"
      ]
     },
     "execution_count": 14,
     "metadata": {},
     "output_type": "execute_result"
    }
   ],
   "source": [
    "src_input = tensor[:, :-1]\n",
    "tgt_input = tensor[:, 1:]\n",
    "print(src_input[0])\n",
    "print(tgt_input[0])\n",
    "len(src_input[0])"
   ]
  },
  {
   "cell_type": "markdown",
   "id": "2ce2f568",
   "metadata": {},
   "source": [
    "## 데이터 셋 분리"
   ]
  },
  {
   "cell_type": "code",
   "execution_count": 15,
   "id": "99eef49a",
   "metadata": {},
   "outputs": [],
   "source": [
    "enc_train, enc_val, dec_train, dec_val = train_test_split(src_input,\n",
    "                                                         tgt_input,\n",
    "                                                         test_size = 0.2,\n",
    "                                                         random_state=42)"
   ]
  },
  {
   "cell_type": "markdown",
   "id": "b8a00293",
   "metadata": {},
   "source": [
    "## 모델 생성 및 학습"
   ]
  },
  {
   "cell_type": "code",
   "execution_count": 16,
   "id": "68761dcc",
   "metadata": {},
   "outputs": [],
   "source": [
    "class TextGenerator(tf.keras.Model):\n",
    "    def __init__(self, vocab_size, embedding_size, hidden_size):\n",
    "        super().__init__()\n",
    "        # Embedding 레이어, 2개의 LSTM 레이어, 1개의 Dense 레이어로 구성되어 있다.\n",
    "        # Embedding 레이어는 단어 사전의 인덱스 값을 해당 인덱스 번째의 워드 벡터로 바꿔준다.\n",
    "        # 이 워드 벡터는 의미 벡터 공간에서 단어의 추상적 표현으로 사용된다. \n",
    "        self.embedding = tf.keras.layers.Embedding(vocab_size, embedding_size) \n",
    "        self.rnn_1 = tf.keras.layers.LSTM(hidden_size, return_sequences=True)  \n",
    "        self.rnn_2 = tf.keras.layers.LSTM(hidden_size, return_sequences=True)\n",
    "        self.linear = tf.keras.layers.Dense(vocab_size)\n",
    "        \n",
    "    def call(self, x):\n",
    "        out = self.embedding(x)\n",
    "        out = self.rnn_1(out)\n",
    "        out = self.rnn_2(out)\n",
    "        out = self.linear(out)\n",
    "        \n",
    "        return out\n",
    "# embedding size 값이 커질수록 단어의 추상적인 특징들을 더 잡아낼 수 있지만\n",
    "# 그만큼 충분한 데이터가 없으면 안좋은 결과 값을 가져옵니다!   \n",
    "embedding_size = 128 # 워드 벡터의 차원수를 말하며 단어가 추상적으로 표현되는 크기입니다.\n",
    "hidden_size = 1024 # 모델에 얼마나 많은 일꾼을 둘 것인가? 정도로 이해하면 좋다.\n",
    "\n",
    "model = TextGenerator(tokenizer.num_words + 1, embedding_size, hidden_size) # tokenizer.num_words에 +1인 이유는 문장에 없는 pad가 사용되었기 때문이다."
   ]
  },
  {
   "cell_type": "code",
   "execution_count": 19,
   "id": "d33c1031",
   "metadata": {},
   "outputs": [
    {
     "name": "stdout",
     "output_type": "stream",
     "text": [
      "Epoch 1/10\n",
      "530/530 [==============================] - 116s 196ms/step - loss: 2.8246 - val_loss: 2.5171\n",
      "Epoch 2/10\n",
      "530/530 [==============================] - 107s 201ms/step - loss: 2.4280 - val_loss: 2.3712\n",
      "Epoch 3/10\n",
      "530/530 [==============================] - 109s 206ms/step - loss: 2.3052 - val_loss: 2.2848\n",
      "Epoch 4/10\n",
      "530/530 [==============================] - 111s 209ms/step - loss: 2.2138 - val_loss: 2.2266\n",
      "Epoch 5/10\n",
      "530/530 [==============================] - 113s 213ms/step - loss: 2.1384 - val_loss: 2.1788\n",
      "Epoch 6/10\n",
      "530/530 [==============================] - 111s 210ms/step - loss: 2.0704 - val_loss: 2.1372\n",
      "Epoch 7/10\n",
      "530/530 [==============================] - 114s 216ms/step - loss: 2.0067 - val_loss: 2.1034\n",
      "Epoch 8/10\n",
      "530/530 [==============================] - 115s 216ms/step - loss: 1.9474 - val_loss: 2.0753\n",
      "Epoch 9/10\n",
      "530/530 [==============================] - 113s 213ms/step - loss: 1.8912 - val_loss: 2.0508\n",
      "Epoch 10/10\n",
      "530/530 [==============================] - 116s 219ms/step - loss: 1.8383 - val_loss: 2.0290\n"
     ]
    }
   ],
   "source": [
    "optimizer = tf.keras.optimizers.Adam() # Adam은 현재 가장 많이 사용하는 옵티마이저이다. 자세한 내용은 차차 배운다.\n",
    "loss = tf.keras.losses.SparseCategoricalCrossentropy( # 훈련 데이터의 라벨이 정수의 형태로 제공될 때 사용하는 손실함수이다.\n",
    "    from_logits=True, # 기본값은 False이다. 모델에 의해 생성된 출력 값이 정규화되지 않았음을 손실 함수에 알려준다. 즉 softmax함수가 적용되지 않았다는걸 의미한다. \n",
    "    reduction='none' # 기본값은 SUM이다. 각자 나오는 값의 반환 원할 때 None을 사용한다.\n",
    ")\n",
    "\n",
    "model.compile(loss=loss, optimizer=optimizer)\n",
    "\n",
    "with tf.device('/gpu:0'):\n",
    "    history = model.fit(enc_train, dec_train,validation_data=(enc_val, dec_val),epochs= 10,batch_size= 256)"
   ]
  },
  {
   "cell_type": "markdown",
   "id": "795d1404",
   "metadata": {},
   "source": [
    "## 모델이 만든 가사 확인해보기 "
   ]
  },
  {
   "cell_type": "code",
   "execution_count": 20,
   "id": "257a6832",
   "metadata": {},
   "outputs": [],
   "source": [
    "def generate_text(model, tokenizer, init_sentence=\"<start>\", max_len=15): #시작 문자열을 init_sentence 로 받으며 디폴트값은 <start> 를 받는다\n",
    "    # 테스트를 위해서 입력받은 init_sentence도 텐서로 변환합니다\n",
    "    test_input = tokenizer.texts_to_sequences([init_sentence]) #텍스트 안의 단어들을 숫자의 시퀀스의 형태로 변환\n",
    "    test_tensor = tf.convert_to_tensor(test_input, dtype=tf.int64)\n",
    "    end_token = tokenizer.word_index[\"<end>\"]\n",
    "\n",
    "    # 단어 하나씩 예측해 문장을 만듭니다\n",
    "    #    1. 입력받은 문장의 텐서를 입력합니다\n",
    "    #    2. 예측된 값 중 가장 높은 확률인 word index를 뽑아냅니다\n",
    "    #    3. 2에서 예측된 word index를 문장 뒤에 붙입니다\n",
    "    #    4. 모델이 <end>를 예측했거나, max_len에 도달했다면 문장 생성을 마칩니다 (도달 하지 못하였으면 while 루프를 돌면서 다음 단어를 예측)\n",
    "    while True: #루프를 돌면서 init_sentence에 단어를 하나씩 생성성\n",
    "        # 1\n",
    "        predict = model(test_tensor) \n",
    "        # 2\n",
    "        predict_word = tf.argmax(tf.nn.softmax(predict, axis=-1), axis=-1)[:, -1] \n",
    "        # 3 \n",
    "        test_tensor = tf.concat([test_tensor, tf.expand_dims(predict_word, axis=0)], axis=-1)\n",
    "        # 4 \n",
    "        if predict_word.numpy()[0] == end_token: break\n",
    "        if test_tensor.shape[1] >= max_len: break\n",
    "\n",
    "    generated = \"\"\n",
    "    # tokenizer를 이용해 word index를 단어로 하나씩 변환합니다 \n",
    "    for word_index in test_tensor[0].numpy():큰\n",
    "        generated += tokenizer.index_word[word_index] + \" \"\n",
    "\n",
    "    return generated #최종적으로 모델이 생성한 문장을 반환"
   ]
  },
  {
   "cell_type": "code",
   "execution_count": 21,
   "id": "623b067c",
   "metadata": {},
   "outputs": [
    {
     "data": {
      "text/plain": [
       "'<start> i love you , i m not gonna be <end> '"
      ]
     },
     "execution_count": 21,
     "metadata": {},
     "output_type": "execute_result"
    }
   ],
   "source": [
    "generate_text(model, tokenizer, init_sentence=\"<start> i love\", max_len=20)"
   ]
  },
  {
   "cell_type": "markdown",
   "id": "f224ee8a",
   "metadata": {},
   "source": [
    "## 마치며\n",
    "\n",
    "여태했던 Exploration 중에서 가장 힘들었다. \n",
    "1. 학습시간이 길다.\n",
    "    * 처음시도 했을때 1에폭에 20-25분이었다. 10에폭이면 3-4시간정도 걸린다. 돌리지 않고 다른 방법을 찾기로 했다.\n",
    "    * embedding과 hiddensize를 낮췄다. 1에폭에 10분정도 걸렸다. 하지만 loss가 4.xx로 나왔다.\n",
    "    * GPU를 사용하면 학습이 빠르다고 해서 실행해보기로 했다. 여기서 시간을 엄청 까먹었다. 드라이버와 패키지 버전문제 때문에 삭제하고 다시 깔고를 반복했다.\n",
    "    * GPU를 사용했을 때 1에폭에 2분 걸렸다. 효과는 굉장했다. 10배나 빨라졌다.\n",
    "    * GPU를 사용했을때 GPU의 온도가 75도 까지 올라가서 처음에 무서웠지만 찾아보니까 70~80도가 정상이라고 해서 안심했다.\n",
    "    * 학습을 편하게 하기 위해 GPU에 관해 더 찾아보아야겠다.\n",
    "2. 단어 개수 제한\n",
    "    * pad_sequences의 maxlen을 20으로 설정해 단어개수를 제한하면 앞이나 뒤에서부터 자르기때문에 단어가 20개가 넘는 문장의 경우시작,종료 토큰이 사라지게 되므로 학습에 영향이 있을 수 있다고 판단.\n",
    "    * 따라서 패딩에 들어가기전에 단어의 개수가 20개인 문장만 남겨두기 위해 for와 enumerate를 사용했지만 지워지지 않는 문장도 있어서 '절대 그럴 수 없는데 왜 그럴까?' 이생각만 하다가 시간을 엄청보냈다.\n",
    "    * 이유는 20개가 넘는 문장의 인덱스를 하나씩 지워주는데 하나씩 지우면서 문장들 인덱스가 갱신되어서(하나씩 땡겨짐) 20개넘는 문장들의 인덱스가 붙어있는 경우에는 지워지지 않았다.\n",
    "    * 이유를 찾고나니 파이썬공부가 많이 부족하다고 느꼈다."
   ]
  },
  {
   "cell_type": "code",
   "execution_count": null,
   "id": "c856fa0a",
   "metadata": {},
   "outputs": [],
   "source": []
  }
 ],
 "metadata": {
  "kernelspec": {
   "display_name": "Python 3 (ipykernel)",
   "language": "python",
   "name": "python3"
  },
  "language_info": {
   "codemirror_mode": {
    "name": "ipython",
    "version": 3
   },
   "file_extension": ".py",
   "mimetype": "text/x-python",
   "name": "python",
   "nbconvert_exporter": "python",
   "pygments_lexer": "ipython3",
   "version": "3.9.15"
  }
 },
 "nbformat": 4,
 "nbformat_minor": 5
}
