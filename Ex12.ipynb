{
 "cells": [
  {
   "cell_type": "code",
   "execution_count": 4,
   "id": "c9f09432",
   "metadata": {},
   "outputs": [],
   "source": [
    "import pandas as pd\n",
    "import nltk\n",
    "import re\n",
    "import matplotlib.pyplot as plt\n",
    "from nltk.corpus import stopwords\n",
    "from bs4 import BeautifulSoup\n",
    "from tensorflow.keras.preprocessing.text import Tokenizer \n",
    "from tensorflow.keras.preprocessing.sequence import pad_sequences\n",
    "import urllib.request\n",
    "import warnings\n",
    "warnings.filterwarnings(\"ignore\", category=UserWarning, module='bs4')\n",
    "import os\n",
    "os.environ['KMP_DUPLICATE_LIB_OK']='True'"
   ]
  },
  {
   "cell_type": "code",
   "execution_count": 5,
   "id": "b393d75c",
   "metadata": {},
   "outputs": [],
   "source": [
    "import urllib.request\n",
    "urllib.request.urlretrieve(\"https://raw.githubusercontent.com/sunnysai12345/News_Summary/master/news_summary_more.csv\", filename=\"news_summary_more.csv\")\n",
    "data = pd.read_csv('news_summary_more.csv', encoding='iso-8859-1')"
   ]
  },
  {
   "cell_type": "code",
   "execution_count": 6,
   "id": "7cb7846e",
   "metadata": {},
   "outputs": [
    {
     "data": {
      "text/html": [
       "<div>\n",
       "<style scoped>\n",
       "    .dataframe tbody tr th:only-of-type {\n",
       "        vertical-align: middle;\n",
       "    }\n",
       "\n",
       "    .dataframe tbody tr th {\n",
       "        vertical-align: top;\n",
       "    }\n",
       "\n",
       "    .dataframe thead th {\n",
       "        text-align: right;\n",
       "    }\n",
       "</style>\n",
       "<table border=\"1\" class=\"dataframe\">\n",
       "  <thead>\n",
       "    <tr style=\"text-align: right;\">\n",
       "      <th></th>\n",
       "      <th>headlines</th>\n",
       "      <th>text</th>\n",
       "    </tr>\n",
       "  </thead>\n",
       "  <tbody>\n",
       "    <tr>\n",
       "      <th>792</th>\n",
       "      <td>RSS mother ship of BJP, wants to control insti...</td>\n",
       "      <td>Addressing 'The Odisha Dialogue' programme in ...</td>\n",
       "    </tr>\n",
       "    <tr>\n",
       "      <th>68156</th>\n",
       "      <td>Lenskart invests $1 mn in US-based 3D face mod...</td>\n",
       "      <td>Online eyewear retailer Lenskart has invested ...</td>\n",
       "    </tr>\n",
       "    <tr>\n",
       "      <th>55446</th>\n",
       "      <td>PM Modi attends Virat-Anushka's Delhi wedding ...</td>\n",
       "      <td>Prime Minister Narendra Modi on Thursday atten...</td>\n",
       "    </tr>\n",
       "    <tr>\n",
       "      <th>11779</th>\n",
       "      <td>Cashback worth Ã¢ÂÂ¹5,400 during Jio-OnePlus ...</td>\n",
       "      <td>nAhead of OnePlus 6T's launch, Reliance Jio ha...</td>\n",
       "    </tr>\n",
       "    <tr>\n",
       "      <th>65406</th>\n",
       "      <td>Why is Hema Malini referred to as Dream Girl?</td>\n",
       "      <td>Actress Hema Malini got the nickname Dream Gir...</td>\n",
       "    </tr>\n",
       "    <tr>\n",
       "      <th>20655</th>\n",
       "      <td>Illegal bungalows of Nirav Modi, Choksi to be ...</td>\n",
       "      <td>The Maharashtra government on Tuesday ordered ...</td>\n",
       "    </tr>\n",
       "    <tr>\n",
       "      <th>41959</th>\n",
       "      <td>Cigarette, tobacco smuggling cases rise 136% i...</td>\n",
       "      <td>Incidents of cigarettes and other tobacco prod...</td>\n",
       "    </tr>\n",
       "    <tr>\n",
       "      <th>14259</th>\n",
       "      <td>Couple transporting body parts admits to killi...</td>\n",
       "      <td>A couple caught in Mexico transporting human b...</td>\n",
       "    </tr>\n",
       "    <tr>\n",
       "      <th>89152</th>\n",
       "      <td>Aamir wrote 2-pg note appreciating my work in ...</td>\n",
       "      <td>Actress Sanya Malhotra has revealed that co-ac...</td>\n",
       "    </tr>\n",
       "    <tr>\n",
       "      <th>50522</th>\n",
       "      <td>Drug lord promises to not kill jurors at upcom...</td>\n",
       "      <td>Mexican drug lord Joaquin 'El Chapo' Guzman ha...</td>\n",
       "    </tr>\n",
       "  </tbody>\n",
       "</table>\n",
       "</div>"
      ],
      "text/plain": [
       "                                               headlines  \\\n",
       "792    RSS mother ship of BJP, wants to control insti...   \n",
       "68156  Lenskart invests $1 mn in US-based 3D face mod...   \n",
       "55446  PM Modi attends Virat-Anushka's Delhi wedding ...   \n",
       "11779  Cashback worth Ã¢ÂÂ¹5,400 during Jio-OnePlus ...   \n",
       "65406     Why is Hema Malini referred to as Dream Girl?    \n",
       "20655  Illegal bungalows of Nirav Modi, Choksi to be ...   \n",
       "41959  Cigarette, tobacco smuggling cases rise 136% i...   \n",
       "14259  Couple transporting body parts admits to killi...   \n",
       "89152  Aamir wrote 2-pg note appreciating my work in ...   \n",
       "50522  Drug lord promises to not kill jurors at upcom...   \n",
       "\n",
       "                                                    text  \n",
       "792    Addressing 'The Odisha Dialogue' programme in ...  \n",
       "68156  Online eyewear retailer Lenskart has invested ...  \n",
       "55446  Prime Minister Narendra Modi on Thursday atten...  \n",
       "11779  nAhead of OnePlus 6T's launch, Reliance Jio ha...  \n",
       "65406  Actress Hema Malini got the nickname Dream Gir...  \n",
       "20655  The Maharashtra government on Tuesday ordered ...  \n",
       "41959  Incidents of cigarettes and other tobacco prod...  \n",
       "14259  A couple caught in Mexico transporting human b...  \n",
       "89152  Actress Sanya Malhotra has revealed that co-ac...  \n",
       "50522  Mexican drug lord Joaquin 'El Chapo' Guzman ha...  "
      ]
     },
     "execution_count": 6,
     "metadata": {},
     "output_type": "execute_result"
    }
   ],
   "source": [
    "data.sample(10)"
   ]
  },
  {
   "cell_type": "code",
   "execution_count": 7,
   "id": "efbf9142",
   "metadata": {},
   "outputs": [
    {
     "data": {
      "text/html": [
       "<div>\n",
       "<style scoped>\n",
       "    .dataframe tbody tr th:only-of-type {\n",
       "        vertical-align: middle;\n",
       "    }\n",
       "\n",
       "    .dataframe tbody tr th {\n",
       "        vertical-align: top;\n",
       "    }\n",
       "\n",
       "    .dataframe thead th {\n",
       "        text-align: right;\n",
       "    }\n",
       "</style>\n",
       "<table border=\"1\" class=\"dataframe\">\n",
       "  <thead>\n",
       "    <tr style=\"text-align: right;\">\n",
       "      <th></th>\n",
       "      <th>summary</th>\n",
       "      <th>text</th>\n",
       "    </tr>\n",
       "  </thead>\n",
       "  <tbody>\n",
       "    <tr>\n",
       "      <th>28424</th>\n",
       "      <td>Google to train gaming startups from India, So...</td>\n",
       "      <td>Technology giant Google has announced a four-m...</td>\n",
       "    </tr>\n",
       "    <tr>\n",
       "      <th>14829</th>\n",
       "      <td>Shaw 1st to slam a ton each on Ranji, Duleep T...</td>\n",
       "      <td>Eighteen-year-old opener Prithvi Shaw has beco...</td>\n",
       "    </tr>\n",
       "    <tr>\n",
       "      <th>66235</th>\n",
       "      <td>North Korean hackers stole US-South Korea war ...</td>\n",
       "      <td>North Korean hackers stole classified military...</td>\n",
       "    </tr>\n",
       "    <tr>\n",
       "      <th>23396</th>\n",
       "      <td>Delhi has most fake engineering colleges in In...</td>\n",
       "      <td>India has 277 fake colleges offering engineeri...</td>\n",
       "    </tr>\n",
       "    <tr>\n",
       "      <th>21248</th>\n",
       "      <td>Harmanpreet Kaur breaks van's window with six ...</td>\n",
       "      <td>India women's T20 captain Harmanpreet Kaur bro...</td>\n",
       "    </tr>\n",
       "    <tr>\n",
       "      <th>62715</th>\n",
       "      <td>E-learning platform Meritnation raises $5.8 mi...</td>\n",
       "      <td>Delhi-headquartered e-learning platform Meritn...</td>\n",
       "    </tr>\n",
       "    <tr>\n",
       "      <th>55571</th>\n",
       "      <td>Cong moves no-trust motion against BJP govt in...</td>\n",
       "      <td>Congress has moved a no-confidence motion agai...</td>\n",
       "    </tr>\n",
       "    <tr>\n",
       "      <th>97015</th>\n",
       "      <td>Will back LK Advani or Sushma Swaraj for Prez'...</td>\n",
       "      <td>West Bengal CM Mamata Banerjee has said that s...</td>\n",
       "    </tr>\n",
       "    <tr>\n",
       "      <th>81010</th>\n",
       "      <td>Luxury house Louis Vuitton unveils 1st smartwa...</td>\n",
       "      <td>French luxury fashion house Louis Vuitton has ...</td>\n",
       "    </tr>\n",
       "    <tr>\n",
       "      <th>12294</th>\n",
       "      <td>Grateful to PM: Maneka on GoM to combat sexual...</td>\n",
       "      <td>Union Minister Maneka Gandhi said she is \"very...</td>\n",
       "    </tr>\n",
       "  </tbody>\n",
       "</table>\n",
       "</div>"
      ],
      "text/plain": [
       "                                                 summary  \\\n",
       "28424  Google to train gaming startups from India, So...   \n",
       "14829  Shaw 1st to slam a ton each on Ranji, Duleep T...   \n",
       "66235  North Korean hackers stole US-South Korea war ...   \n",
       "23396  Delhi has most fake engineering colleges in In...   \n",
       "21248  Harmanpreet Kaur breaks van's window with six ...   \n",
       "62715  E-learning platform Meritnation raises $5.8 mi...   \n",
       "55571  Cong moves no-trust motion against BJP govt in...   \n",
       "97015  Will back LK Advani or Sushma Swaraj for Prez'...   \n",
       "81010  Luxury house Louis Vuitton unveils 1st smartwa...   \n",
       "12294  Grateful to PM: Maneka on GoM to combat sexual...   \n",
       "\n",
       "                                                    text  \n",
       "28424  Technology giant Google has announced a four-m...  \n",
       "14829  Eighteen-year-old opener Prithvi Shaw has beco...  \n",
       "66235  North Korean hackers stole classified military...  \n",
       "23396  India has 277 fake colleges offering engineeri...  \n",
       "21248  India women's T20 captain Harmanpreet Kaur bro...  \n",
       "62715  Delhi-headquartered e-learning platform Meritn...  \n",
       "55571  Congress has moved a no-confidence motion agai...  \n",
       "97015  West Bengal CM Mamata Banerjee has said that s...  \n",
       "81010  French luxury fashion house Louis Vuitton has ...  \n",
       "12294  Union Minister Maneka Gandhi said she is \"very...  "
      ]
     },
     "execution_count": 7,
     "metadata": {},
     "output_type": "execute_result"
    }
   ],
   "source": [
    "data.rename(columns={'headlines':'summary'},inplace=True)\n",
    "data.sample(10)"
   ]
  },
  {
   "cell_type": "code",
   "execution_count": 8,
   "id": "1e3d3cde",
   "metadata": {},
   "outputs": [
    {
     "data": {
      "text/plain": [
       "98401"
      ]
     },
     "execution_count": 8,
     "metadata": {},
     "output_type": "execute_result"
    }
   ],
   "source": [
    "len(data)"
   ]
  },
  {
   "cell_type": "markdown",
   "id": "d2adffa8",
   "metadata": {},
   "source": [
    "## 1.데이터 전처리하기 (1) 데이터 정리하기\n",
    "\n",
    "## 중복검사, Null값 제거"
   ]
  },
  {
   "cell_type": "code",
   "execution_count": 10,
   "id": "fe2d2c65",
   "metadata": {},
   "outputs": [
    {
     "name": "stdout",
     "output_type": "stream",
     "text": [
      "98280\n",
      "98360\n"
     ]
    }
   ],
   "source": [
    "print(data['summary'].nunique())\n",
    "print(data['text'].nunique())"
   ]
  },
  {
   "cell_type": "code",
   "execution_count": 145,
   "id": "44763d97",
   "metadata": {},
   "outputs": [
    {
     "data": {
      "text/plain": [
       "89739"
      ]
     },
     "execution_count": 145,
     "metadata": {},
     "output_type": "execute_result"
    }
   ],
   "source": [
    "data.drop_duplicates(subset=['text'], inplace=True)\n",
    "len(data)"
   ]
  },
  {
   "cell_type": "code",
   "execution_count": 146,
   "id": "be4b5a03",
   "metadata": {},
   "outputs": [
    {
     "data": {
      "text/plain": [
       "summary           0\n",
       "text              0\n",
       "decoder_input     0\n",
       "decoder_target    0\n",
       "dtype: int64"
      ]
     },
     "execution_count": 146,
     "metadata": {},
     "output_type": "execute_result"
    }
   ],
   "source": [
    "data.isnull().sum()"
   ]
  },
  {
   "cell_type": "markdown",
   "id": "3441a534",
   "metadata": {},
   "source": [
    "## 텍스트 정규화와 불용어 제거"
   ]
  },
  {
   "cell_type": "code",
   "execution_count": 13,
   "id": "18e68364",
   "metadata": {},
   "outputs": [
    {
     "name": "stdout",
     "output_type": "stream",
     "text": [
      "정규화 사전의 수:  120\n"
     ]
    }
   ],
   "source": [
    "contractions = {\"ain't\": \"is not\", \"aren't\": \"are not\",\"can't\": \"cannot\", \"'cause\": \"because\", \"could've\": \"could have\", \"couldn't\": \"could not\",\n",
    "                           \"didn't\": \"did not\",  \"doesn't\": \"does not\", \"don't\": \"do not\", \"hadn't\": \"had not\", \"hasn't\": \"has not\", \"haven't\": \"have not\",\n",
    "                           \"he'd\": \"he would\",\"he'll\": \"he will\", \"he's\": \"he is\", \"how'd\": \"how did\", \"how'd'y\": \"how do you\", \"how'll\": \"how will\", \"how's\": \"how is\",\n",
    "                           \"I'd\": \"I would\", \"I'd've\": \"I would have\", \"I'll\": \"I will\", \"I'll've\": \"I will have\",\"I'm\": \"I am\", \"I've\": \"I have\", \"i'd\": \"i would\",\n",
    "                           \"i'd've\": \"i would have\", \"i'll\": \"i will\",  \"i'll've\": \"i will have\",\"i'm\": \"i am\", \"i've\": \"i have\", \"isn't\": \"is not\", \"it'd\": \"it would\",\n",
    "                           \"it'd've\": \"it would have\", \"it'll\": \"it will\", \"it'll've\": \"it will have\",\"it's\": \"it is\", \"let's\": \"let us\", \"ma'am\": \"madam\",\n",
    "                           \"mayn't\": \"may not\", \"might've\": \"might have\",\"mightn't\": \"might not\",\"mightn't've\": \"might not have\", \"must've\": \"must have\",\n",
    "                           \"mustn't\": \"must not\", \"mustn't've\": \"must not have\", \"needn't\": \"need not\", \"needn't've\": \"need not have\",\"o'clock\": \"of the clock\",\n",
    "                           \"oughtn't\": \"ought not\", \"oughtn't've\": \"ought not have\", \"shan't\": \"shall not\", \"sha'n't\": \"shall not\", \"shan't've\": \"shall not have\",\n",
    "                           \"she'd\": \"she would\", \"she'd've\": \"she would have\", \"she'll\": \"she will\", \"she'll've\": \"she will have\", \"she's\": \"she is\",\n",
    "                           \"should've\": \"should have\", \"shouldn't\": \"should not\", \"shouldn't've\": \"should not have\", \"so've\": \"so have\",\"so's\": \"so as\",\n",
    "                           \"this's\": \"this is\",\"that'd\": \"that would\", \"that'd've\": \"that would have\", \"that's\": \"that is\", \"there'd\": \"there would\",\n",
    "                           \"there'd've\": \"there would have\", \"there's\": \"there is\", \"here's\": \"here is\",\"they'd\": \"they would\", \"they'd've\": \"they would have\",\n",
    "                           \"they'll\": \"they will\", \"they'll've\": \"they will have\", \"they're\": \"they are\", \"they've\": \"they have\", \"to've\": \"to have\",\n",
    "                           \"wasn't\": \"was not\", \"we'd\": \"we would\", \"we'd've\": \"we would have\", \"we'll\": \"we will\", \"we'll've\": \"we will have\", \"we're\": \"we are\",\n",
    "                           \"we've\": \"we have\", \"weren't\": \"were not\", \"what'll\": \"what will\", \"what'll've\": \"what will have\", \"what're\": \"what are\",\n",
    "                           \"what's\": \"what is\", \"what've\": \"what have\", \"when's\": \"when is\", \"when've\": \"when have\", \"where'd\": \"where did\", \"where's\": \"where is\",\n",
    "                           \"where've\": \"where have\", \"who'll\": \"who will\", \"who'll've\": \"who will have\", \"who's\": \"who is\", \"who've\": \"who have\",\n",
    "                           \"why's\": \"why is\", \"why've\": \"why have\", \"will've\": \"will have\", \"won't\": \"will not\", \"won't've\": \"will not have\",\n",
    "                           \"would've\": \"would have\", \"wouldn't\": \"would not\", \"wouldn't've\": \"would not have\", \"y'all\": \"you all\",\n",
    "                           \"y'all'd\": \"you all would\",\"y'all'd've\": \"you all would have\",\"y'all're\": \"you all are\",\"y'all've\": \"you all have\",\n",
    "                           \"you'd\": \"you would\", \"you'd've\": \"you would have\", \"you'll\": \"you will\", \"you'll've\": \"you will have\",\n",
    "                           \"you're\": \"you are\", \"you've\": \"you have\"}\n",
    "\n",
    "print(\"정규화 사전의 수: \", len(contractions))"
   ]
  },
  {
   "cell_type": "code",
   "execution_count": 14,
   "id": "c4ce8ca1",
   "metadata": {},
   "outputs": [
    {
     "name": "stdout",
     "output_type": "stream",
     "text": [
      "179\n",
      "['i', 'me', 'my', 'myself', 'we', 'our', 'ours', 'ourselves', 'you', \"you're\", \"you've\", \"you'll\", \"you'd\", 'your', 'yours', 'yourself', 'yourselves', 'he', 'him', 'his', 'himself', 'she', \"she's\", 'her', 'hers', 'herself', 'it', \"it's\", 'its', 'itself', 'they', 'them', 'their', 'theirs', 'themselves', 'what', 'which', 'who', 'whom', 'this', 'that', \"that'll\", 'these', 'those', 'am', 'is', 'are', 'was', 'were', 'be', 'been', 'being', 'have', 'has', 'had', 'having', 'do', 'does', 'did', 'doing', 'a', 'an', 'the', 'and', 'but', 'if', 'or', 'because', 'as', 'until', 'while', 'of', 'at', 'by', 'for', 'with', 'about', 'against', 'between', 'into', 'through', 'during', 'before', 'after', 'above', 'below', 'to', 'from', 'up', 'down', 'in', 'out', 'on', 'off', 'over', 'under', 'again', 'further', 'then', 'once', 'here', 'there', 'when', 'where', 'why', 'how', 'all', 'any', 'both', 'each', 'few', 'more', 'most', 'other', 'some', 'such', 'no', 'nor', 'not', 'only', 'own', 'same', 'so', 'than', 'too', 'very', 's', 't', 'can', 'will', 'just', 'don', \"don't\", 'should', \"should've\", 'now', 'd', 'll', 'm', 'o', 're', 've', 'y', 'ain', 'aren', \"aren't\", 'couldn', \"couldn't\", 'didn', \"didn't\", 'doesn', \"doesn't\", 'hadn', \"hadn't\", 'hasn', \"hasn't\", 'haven', \"haven't\", 'isn', \"isn't\", 'ma', 'mightn', \"mightn't\", 'mustn', \"mustn't\", 'needn', \"needn't\", 'shan', \"shan't\", 'shouldn', \"shouldn't\", 'wasn', \"wasn't\", 'weren', \"weren't\", 'won', \"won't\", 'wouldn', \"wouldn't\"]\n"
     ]
    }
   ],
   "source": [
    "print(len(stopwords.words('english')))\n",
    "print(stopwords.words('english'))"
   ]
  },
  {
   "cell_type": "code",
   "execution_count": 15,
   "id": "ae229a64",
   "metadata": {},
   "outputs": [],
   "source": [
    "def preprocessing_sentence(sentence,remove_stopwords=True):\n",
    "    sentence = sentence.lower()\n",
    "    sentence = BeautifulSoup(sentence, 'lxml').text\n",
    "    sentence = re.sub(r'\\([^)]*\\)',r'',sentence)\n",
    "    sentence = re.sub(r'\"',r'',sentence)\n",
    "    sentence = ' '.join([contractions[i] if i in contractions else i for i in sentence.split()])\n",
    "    sentence = re.sub(r\"'s\\b\",r'',sentence)\n",
    "    sentence = re.sub(r'[^a-zA-Z]', r' ',sentence)\n",
    "    sentence = re.sub(r'[m]{2,}',r'mm',sentence)\n",
    "    \n",
    "    if remove_stopwords : \n",
    "        tokens = ' '.join(word for word in sentence.split() if not word in stopwords.words('english') if len(word) > 1)\n",
    "    else :\n",
    "        tokens =' '.join([i for i in sentence.split() if len(i)>1]) \n",
    "    return tokens"
   ]
  },
  {
   "cell_type": "code",
   "execution_count": 16,
   "id": "873763d6",
   "metadata": {},
   "outputs": [
    {
     "data": {
      "text/plain": [
       "'mithali raj rewarded team manager recording first test double hundred indian woman august mithali scored england set world record highest score women test cricket year old remains indian woman hit test double ton'"
      ]
     },
     "execution_count": 16,
     "metadata": {},
     "output_type": "execute_result"
    }
   ],
   "source": [
    "preprocessing_sentence(data['text'][21434])"
   ]
  },
  {
   "cell_type": "code",
   "execution_count": 17,
   "id": "2b9ceed2",
   "metadata": {},
   "outputs": [
    {
     "data": {
      "text/plain": [
       "['saurav kant alumnus upgrad iiit pg program machine learning artificial intelligence sr systems engineer infosys almost years work experience program upgrad degree career support helped transition data scientist tech mahindra salary hike upgrad online power learning powered lakh careers',\n",
       " 'kunal shah credit card bill payment platform cred gave users chance win free food swiggy one year pranav kaushik delhi techie bagged reward spending cred coins users get one cred coin per rupee bill paid used avail rewards brands like ixigo bookmyshow ubereats cult fit',\n",
       " 'new zealand defeated india wickets fourth odi hamilton thursday win first match five match odi series india lost international match rohit sharma captaincy consecutive victories dating back march match witnessed india getting seventh lowest total odi cricket history',\n",
       " 'aegon life iterm insurance plan customers enjoy tax benefits premiums paid save taxes plan provides life cover age years also customers options insure critical illnesses disability accidental death benefit rider life cover age years',\n",
       " 'speaking sexual harassment allegations rajkumar hirani sonam kapoor said known hirani many years true metoo movement get derailed metoo movement always believe woman case need reserve judgment added hirani accused assistant worked sanju']"
      ]
     },
     "execution_count": 17,
     "metadata": {},
     "output_type": "execute_result"
    }
   ],
   "source": [
    "clean_text =[]\n",
    "for s in data['text']:\n",
    "    clean_text.append(preprocessing_sentence(s))\n",
    "\n",
    "clean_text[:5]"
   ]
  },
  {
   "cell_type": "code",
   "execution_count": 18,
   "id": "6dd25bb3",
   "metadata": {},
   "outputs": [
    {
     "data": {
      "text/plain": [
       "['upgrad learner switches to career in ml al with salary hike',\n",
       " 'delhi techie wins free food from swiggy for one year on cred',\n",
       " 'new zealand end rohit sharma led india match winning streak',\n",
       " 'aegon life iterm insurance plan helps customers save tax',\n",
       " 'have known hirani for yrs what if metoo claims are not true sonam']"
      ]
     },
     "execution_count": 18,
     "metadata": {},
     "output_type": "execute_result"
    }
   ],
   "source": [
    "clean_summary = []\n",
    "for s in data['summary']:\n",
    "    clean_summary.append(preprocessing_sentence(s,remove_stopwords=False))\n",
    "\n",
    "clean_summary[:5]"
   ]
  },
  {
   "cell_type": "code",
   "execution_count": 19,
   "id": "3577bc99",
   "metadata": {},
   "outputs": [],
   "source": [
    "import numpy as np\n",
    "data['text'] = clean_text\n",
    "data['summary'] = clean_summary\n",
    "data.replace('',np.nan, inplace=True)"
   ]
  },
  {
   "cell_type": "code",
   "execution_count": 20,
   "id": "6104033b",
   "metadata": {},
   "outputs": [
    {
     "data": {
      "text/plain": [
       "summary    0\n",
       "text       0\n",
       "dtype: int64"
      ]
     },
     "execution_count": 20,
     "metadata": {},
     "output_type": "execute_result"
    }
   ],
   "source": [
    "data.isnull().sum()"
   ]
  },
  {
   "cell_type": "code",
   "execution_count": 21,
   "id": "a518e210",
   "metadata": {},
   "outputs": [
    {
     "data": {
      "text/plain": [
       "98360"
      ]
     },
     "execution_count": 21,
     "metadata": {},
     "output_type": "execute_result"
    }
   ],
   "source": [
    "data.dropna(axis=0, inplace=True)\n",
    "len(data)"
   ]
  },
  {
   "cell_type": "markdown",
   "id": "6c606e77",
   "metadata": {},
   "source": [
    "## 2. 데이터 전처리하기 (2) 훈련데이터와 테스트데이터 나누기\n",
    "\n",
    "## 샘플의 최대 길이 정하기"
   ]
  },
  {
   "cell_type": "code",
   "execution_count": 22,
   "id": "bced5aea",
   "metadata": {},
   "outputs": [
    {
     "name": "stdout",
     "output_type": "stream",
     "text": [
      "텍스트의 최소 길이 : 1\n",
      "텍스트의 최대 길이 : 60\n",
      "텍스트의 평균 길이 : 35.09968483123221\n",
      "요약의 최소 길이 : 1\n",
      "요약의 최대 길이 : 16\n",
      "요약의 평균 길이 : 9.299532330215534\n"
     ]
    },
    {
     "data": {
      "image/png": "[encoded data removed]",
      "text/plain": [
       "<Figure size 640x480 with 2 Axes>"
      ]
     },
     "metadata": {},
     "output_type": "display_data"
    },
    {
     "data": {
      "image/png": "[encoded data removed]",
      "text/plain": [
       "<Figure size 640x480 with 1 Axes>"
      ]
     },
     "metadata": {},
     "output_type": "display_data"
    },
    {
     "data": {
      "image/png": "[encoded data removed]",
      "text/plain": [
       "<Figure size 640x480 with 1 Axes>"
      ]
     },
     "metadata": {},
     "output_type": "display_data"
    }
   ],
   "source": [
    "text_len =[len(i.split()) for i in data['text']]\n",
    "summary_len = [len(i.split()) for i in data['summary']]\n",
    "\n",
    "print('텍스트의 최소 길이 : {}'.format(np.min(text_len)))\n",
    "print('텍스트의 최대 길이 : {}'.format(np.max(text_len)))\n",
    "print('텍스트의 평균 길이 : {}'.format(np.mean(text_len)))\n",
    "print('요약의 최소 길이 : {}'.format(np.min(summary_len)))\n",
    "print('요약의 최대 길이 : {}'.format(np.max(summary_len)))\n",
    "print('요약의 평균 길이 : {}'.format(np.mean(summary_len)))\n",
    "\n",
    "plt.subplot(2,1,1)\n",
    "plt.boxplot(text_len)\n",
    "plt.title('text')\n",
    "plt.subplot(2,1,2)\n",
    "plt.boxplot(summary_len)\n",
    "plt.title('summary')\n",
    "plt.show()\n",
    "\n",
    "plt.hist(text_len, bins=40)\n",
    "plt.title('texthist')\n",
    "plt.show()\n",
    "plt.hist(summary_len, bins=40)\n",
    "plt.title('summaryhist')\n",
    "plt.show()"
   ]
  },
  {
   "cell_type": "code",
   "execution_count": 23,
   "id": "ef240e19",
   "metadata": {},
   "outputs": [],
   "source": [
    "text_max_len = 40\n",
    "summary_max_len = 12"
   ]
  },
  {
   "cell_type": "code",
   "execution_count": 24,
   "id": "792edd35",
   "metadata": {},
   "outputs": [],
   "source": [
    "def below_threshold_len(max_len, data):\n",
    "    cnt = 0\n",
    "    for i in data:\n",
    "        if len(i.split()) <= max_len :\n",
    "            cnt +=1\n",
    "    print('길이가 {}이하인 샘플의 비율:{}'.format(max_len, (cnt/len(data))))"
   ]
  },
  {
   "cell_type": "code",
   "execution_count": 25,
   "id": "9fed6bbc",
   "metadata": {},
   "outputs": [
    {
     "name": "stdout",
     "output_type": "stream",
     "text": [
      "길이가 40이하인 샘플의 비율:0.9238714924766165\n",
      "길이가 12이하인 샘플의 비율:0.9880337535583571\n"
     ]
    }
   ],
   "source": [
    "below_threshold_len(text_max_len, data['text'])\n",
    "below_threshold_len(summary_max_len, data['summary'])"
   ]
  },
  {
   "cell_type": "code",
   "execution_count": 26,
   "id": "b59d3dcf",
   "metadata": {},
   "outputs": [
    {
     "name": "stdout",
     "output_type": "stream",
     "text": [
      "전체 샘플수 : 89775\n"
     ]
    }
   ],
   "source": [
    "data = data[data['text'].apply(lambda x: len(x.split()) <= text_max_len)]\n",
    "data = data[data['summary'].apply(lambda x: len(x.split()) <= summary_max_len)]\n",
    "print('전체 샘플수 :', (len(data)))"
   ]
  },
  {
   "cell_type": "markdown",
   "id": "065f0c0d",
   "metadata": {},
   "source": [
    "## 시작 토큰과 종료 토큰 추가하기"
   ]
  },
  {
   "cell_type": "code",
   "execution_count": 27,
   "id": "e5b0de26",
   "metadata": {},
   "outputs": [
    {
     "data": {
      "text/html": [
       "<div>\n",
       "<style scoped>\n",
       "    .dataframe tbody tr th:only-of-type {\n",
       "        vertical-align: middle;\n",
       "    }\n",
       "\n",
       "    .dataframe tbody tr th {\n",
       "        vertical-align: top;\n",
       "    }\n",
       "\n",
       "    .dataframe thead th {\n",
       "        text-align: right;\n",
       "    }\n",
       "</style>\n",
       "<table border=\"1\" class=\"dataframe\">\n",
       "  <thead>\n",
       "    <tr style=\"text-align: right;\">\n",
       "      <th></th>\n",
       "      <th>summary</th>\n",
       "      <th>text</th>\n",
       "      <th>decoder_input</th>\n",
       "      <th>decoder_target</th>\n",
       "    </tr>\n",
       "  </thead>\n",
       "  <tbody>\n",
       "    <tr>\n",
       "      <th>0</th>\n",
       "      <td>upgrad learner switches to career in ml al wit...</td>\n",
       "      <td>saurav kant alumnus upgrad iiit pg program mac...</td>\n",
       "      <td>sostoken upgrad learner switches to career in ...</td>\n",
       "      <td>upgrad learner switches to career in ml al wit...</td>\n",
       "    </tr>\n",
       "    <tr>\n",
       "      <th>2</th>\n",
       "      <td>new zealand end rohit sharma led india match w...</td>\n",
       "      <td>new zealand defeated india wickets fourth odi ...</td>\n",
       "      <td>sostoken new zealand end rohit sharma led indi...</td>\n",
       "      <td>new zealand end rohit sharma led india match w...</td>\n",
       "    </tr>\n",
       "    <tr>\n",
       "      <th>3</th>\n",
       "      <td>aegon life iterm insurance plan helps customer...</td>\n",
       "      <td>aegon life iterm insurance plan customers enjo...</td>\n",
       "      <td>sostoken aegon life iterm insurance plan helps...</td>\n",
       "      <td>aegon life iterm insurance plan helps customer...</td>\n",
       "    </tr>\n",
       "    <tr>\n",
       "      <th>5</th>\n",
       "      <td>rahat fateh ali khan denies getting notice for...</td>\n",
       "      <td>pakistani singer rahat fateh ali khan denied r...</td>\n",
       "      <td>sostoken rahat fateh ali khan denies getting n...</td>\n",
       "      <td>rahat fateh ali khan denies getting notice for...</td>\n",
       "    </tr>\n",
       "    <tr>\n",
       "      <th>6</th>\n",
       "      <td>india get all out for their lowest odi total i...</td>\n",
       "      <td>india recorded lowest odi total new zealand ge...</td>\n",
       "      <td>sostoken india get all out for their lowest od...</td>\n",
       "      <td>india get all out for their lowest odi total i...</td>\n",
       "    </tr>\n",
       "  </tbody>\n",
       "</table>\n",
       "</div>"
      ],
      "text/plain": [
       "                                             summary  \\\n",
       "0  upgrad learner switches to career in ml al wit...   \n",
       "2  new zealand end rohit sharma led india match w...   \n",
       "3  aegon life iterm insurance plan helps customer...   \n",
       "5  rahat fateh ali khan denies getting notice for...   \n",
       "6  india get all out for their lowest odi total i...   \n",
       "\n",
       "                                                text  \\\n",
       "0  saurav kant alumnus upgrad iiit pg program mac...   \n",
       "2  new zealand defeated india wickets fourth odi ...   \n",
       "3  aegon life iterm insurance plan customers enjo...   \n",
       "5  pakistani singer rahat fateh ali khan denied r...   \n",
       "6  india recorded lowest odi total new zealand ge...   \n",
       "\n",
       "                                       decoder_input  \\\n",
       "0  sostoken upgrad learner switches to career in ...   \n",
       "2  sostoken new zealand end rohit sharma led indi...   \n",
       "3  sostoken aegon life iterm insurance plan helps...   \n",
       "5  sostoken rahat fateh ali khan denies getting n...   \n",
       "6  sostoken india get all out for their lowest od...   \n",
       "\n",
       "                                      decoder_target  \n",
       "0  upgrad learner switches to career in ml al wit...  \n",
       "2  new zealand end rohit sharma led india match w...  \n",
       "3  aegon life iterm insurance plan helps customer...  \n",
       "5  rahat fateh ali khan denies getting notice for...  \n",
       "6  india get all out for their lowest odi total i...  "
      ]
     },
     "execution_count": 27,
     "metadata": {},
     "output_type": "execute_result"
    }
   ],
   "source": [
    "data['decoder_input'] =data['summary'].apply(lambda x:'sostoken '+x)\n",
    "data['decoder_target'] = data['summary'].apply(lambda x: x+ ' eostoken')\n",
    "data.head()"
   ]
  },
  {
   "cell_type": "code",
   "execution_count": 28,
   "id": "4e7f81fa",
   "metadata": {},
   "outputs": [],
   "source": [
    "encoder_input = np.array(data['text'])\n",
    "decoder_input = np.array(data['decoder_input'])\n",
    "decoder_target = np.array(data['decoder_target'])"
   ]
  },
  {
   "cell_type": "code",
   "execution_count": 29,
   "id": "07112926",
   "metadata": {},
   "outputs": [
    {
     "name": "stdout",
     "output_type": "stream",
     "text": [
      "[47697 46790 78750 ... 32629 52860 67553]\n"
     ]
    }
   ],
   "source": [
    "indices = np.arange(encoder_input.shape[0])\n",
    "np.random.shuffle(indices)\n",
    "print(indices)"
   ]
  },
  {
   "cell_type": "code",
   "execution_count": 30,
   "id": "363f84a8",
   "metadata": {},
   "outputs": [
    {
     "data": {
      "text/plain": [
       "array(['responding crore defamation notice sent honeypreet insaan mother rakhi sawant said going sue crore evidence regarding allegations honeypreet father added honeypreet mother sent notice rakhi defaming daughter making allegations honeypreet links gurmeet ram rahim',\n",
       "       'supreme court annulling couple marriage recently barred duo posting pictures social media court took decision woman expressed apprehensions former husband might try harm reputation posting pictures husband also directed pay lakh wife final settlement',\n",
       "       'sixteenth century italian scientist galileo galilei threw different mass leaning tower pisa establish scientific principle principle later described albert einstein states bodies fall way subject gravity australia based scientist magdalena zych tested equivalence principle quantum states superimposed acted similar way',\n",
       "       'flower bouquets presented prime minister narendra modi tours within india according new guidelines issued ministry home affairs earlier pm modi asked people gift useful things like books khadi handkerchiefs rather flower bouquets put dustbin days',\n",
       "       'former cricketer zaheer khan actress sagarika ghatge got married november featured married special issue december january edition harper bazaar bride sagarika seen yellow gown shantanu nikhil zaheer wore black ensemble designer duo paired black moccasins christian louboutin'],\n",
       "      dtype=object)"
      ]
     },
     "execution_count": 30,
     "metadata": {},
     "output_type": "execute_result"
    }
   ],
   "source": [
    "encoder_input = encoder_input[indices]\n",
    "decoder_input = decoder_input[indices]\n",
    "decoder_target = decoder_target[indices]\n",
    "\n",
    "encoder_input[:5]"
   ]
  },
  {
   "cell_type": "code",
   "execution_count": 31,
   "id": "42fafbf4",
   "metadata": {},
   "outputs": [
    {
     "name": "stdout",
     "output_type": "stream",
     "text": [
      "17955\n"
     ]
    }
   ],
   "source": [
    "n_of_val = int(len(encoder_input) *0.2)\n",
    "print(n_of_val)"
   ]
  },
  {
   "cell_type": "code",
   "execution_count": 32,
   "id": "05584448",
   "metadata": {},
   "outputs": [
    {
     "name": "stdout",
     "output_type": "stream",
     "text": [
      "훈련 데이터의 개수 : 71820\n",
      "훈련 레이블의 개수 : 71820\n",
      "테스트 데이터의 개수 : 17955\n",
      "테스트 레이블의 개수 : 17955\n"
     ]
    }
   ],
   "source": [
    "encoder_input_train = encoder_input[:-n_of_val]\n",
    "decoder_input_train = decoder_input[:-n_of_val]\n",
    "decoder_target_train = decoder_target[:-n_of_val]\n",
    "\n",
    "encoder_input_test = encoder_input[-n_of_val:]\n",
    "decoder_input_test = decoder_input[-n_of_val:]\n",
    "decoder_target_test = decoder_target[-n_of_val:]\n",
    "\n",
    "print('훈련 데이터의 개수 :', len(encoder_input_train))\n",
    "print('훈련 레이블의 개수 :', len(decoder_input_train))\n",
    "print('테스트 데이터의 개수 :', len(encoder_input_test))\n",
    "print('테스트 레이블의 개수 :', len(decoder_input_test))"
   ]
  },
  {
   "cell_type": "markdown",
   "id": "d0305184",
   "metadata": {},
   "source": [
    "## 2. 데이터 전처리하기 (3) 정수 인코딩"
   ]
  },
  {
   "cell_type": "code",
   "execution_count": 33,
   "id": "7623ccd4",
   "metadata": {},
   "outputs": [],
   "source": [
    "src_tokenizer = Tokenizer()\n",
    "src_tokenizer.fit_on_texts(encoder_input_train)"
   ]
  },
  {
   "cell_type": "code",
   "execution_count": 34,
   "id": "44dd8373",
   "metadata": {},
   "outputs": [
    {
     "data": {
      "text/plain": [
       "2143"
      ]
     },
     "execution_count": 34,
     "metadata": {},
     "output_type": "execute_result"
    }
   ],
   "source": [
    "src_tokenizer.word_index['samsung']"
   ]
  },
  {
   "cell_type": "code",
   "execution_count": 54,
   "id": "01b82afd",
   "metadata": {},
   "outputs": [
    {
     "name": "stdout",
     "output_type": "stream",
     "text": [
      "단어 집합의 크기: 65646\n",
      "등장 빈도가 9번 이하인 희귀 단어의 수 : 48320\n",
      "단어 집합에서 희귀 단어를 제외시킬 경우 단어 집합의 크기: 17326\n",
      "단어 집합에서 희귀 단어의 비율: 73.60692197544405\n",
      "전체 등장 빈도에서 희귀 단어 등장 비율: 4.814921331128849\n"
     ]
    }
   ],
   "source": [
    "threshold = 12\n",
    "total_cnt = len(src_tokenizer.word_index)\n",
    "rare_cnt=0\n",
    "total_freq=0\n",
    "rare_freq=0\n",
    "for key, value in src_tokenizer.word_counts.items():\n",
    "    total_freq += value\n",
    "    \n",
    "    if value < threshold:\n",
    "        rare_cnt += 1\n",
    "        rare_freq +=value\n",
    "print('단어 집합의 크기:', total_cnt)\n",
    "print('등장 빈도가 %s번 이하인 희귀 단어의 수 : %s'%(threshold-1 , rare_cnt))\n",
    "print('단어 집합에서 희귀 단어를 제외시킬 경우 단어 집합의 크기:', (total_cnt - rare_cnt))\n",
    "print('단어 집합에서 희귀 단어의 비율:', (rare_cnt/ total_cnt)*100)\n",
    "print('전체 등장 빈도에서 희귀 단어 등장 비율:', (rare_freq/total_freq) *100)"
   ]
  },
  {
   "cell_type": "markdown",
   "id": "4ccc59ed",
   "metadata": {},
   "source": [
    "등장빈도가 7번 이하인 단어의 수가 전체 집합의 70%이상을 차지하지만,   \n",
    "전체 빈도에서 희귀 단어의 등장비율이 4%로 높지않으므로, 단어 집합의 크기는 19000으로 제한하겠습니다."
   ]
  },
  {
   "cell_type": "code",
   "execution_count": 36,
   "id": "0776c733",
   "metadata": {},
   "outputs": [],
   "source": [
    "src_vocab = 19000\n",
    "src_tokenizer =Tokenizer(num_words = src_vocab)\n",
    "src_tokenizer.fit_on_texts(encoder_input_train)"
   ]
  },
  {
   "cell_type": "code",
   "execution_count": 37,
   "id": "14bce065",
   "metadata": {},
   "outputs": [
    {
     "name": "stdout",
     "output_type": "stream",
     "text": [
      "[[1053, 19, 2999, 776, 326, 5133, 272, 4155, 5463, 1, 379, 7732, 19, 1166, 1530, 434, 5133, 225, 3, 5133, 272, 326, 776, 4155, 9224, 262, 239, 434, 5133, 2487, 3464, 357, 2144], [163, 18, 449, 726, 200, 2666, 1606, 1939, 557, 153, 107, 18, 72, 277, 54, 1899, 17327, 30, 412, 1109, 1732, 3828, 5180, 1939, 557, 412, 6, 235, 276, 63, 150, 256, 3072], [1032, 1662, 3763, 2403, 485, 1410, 11115, 2375, 4532, 4792, 7598, 7598, 151, 1553, 6407, 4126, 294, 1339, 1917, 268, 3223, 5237, 187, 45, 3763, 2596, 7598, 4880, 294, 17328, 4156, 956, 268], [9848, 16472, 2174, 164, 15, 121, 52, 7467, 305, 2, 49, 25, 2901, 306, 212, 133, 595, 34, 62, 52, 67, 9, 2261, 8247, 749, 38, 2642, 7034, 2095, 9848, 16472, 436, 10302, 114], [30, 343, 6104, 77, 73, 11116, 15745, 186, 488, 479, 1029, 488, 371, 367, 324, 395, 1135, 11403, 8076, 3278, 11116, 162, 3635, 4576, 16473, 8400, 6104, 2119, 610, 10303, 1775, 1606, 6645, 610, 2608]]\n"
     ]
    }
   ],
   "source": [
    "encoder_input_train = src_tokenizer.texts_to_sequences(encoder_input_train)\n",
    "encoder_input_test = src_tokenizer.texts_to_sequences(encoder_input_test)\n",
    "print(encoder_input_train[:5])"
   ]
  },
  {
   "cell_type": "code",
   "execution_count": 38,
   "id": "feb66655",
   "metadata": {},
   "outputs": [],
   "source": [
    "tar_tokenizer =Tokenizer()\n",
    "tar_tokenizer.fit_on_texts(decoder_input_train)"
   ]
  },
  {
   "cell_type": "code",
   "execution_count": 39,
   "id": "b53bb0c3",
   "metadata": {},
   "outputs": [
    {
     "name": "stdout",
     "output_type": "stream",
     "text": [
      "단어 집합의 크기: 28802\n",
      "등장 빈도가 6번 이하인 희귀 단어의 수 : 19729\n",
      "단어 집합에서 희귀 단어를 제외시킬 경우 단어 집합의 크기: 9073\n",
      "단어 집합에서 희귀 단어의 비율: 68.4987153669884\n",
      "전체 등장 빈도에서 희귀 단어 등장 비율: 5.609945947708246\n"
     ]
    }
   ],
   "source": [
    "threshold = 7\n",
    "total_cnt = len(tar_tokenizer.word_index)\n",
    "rare_cnt=0\n",
    "total_freq=0\n",
    "rare_freq=0\n",
    "for key, value in tar_tokenizer.word_counts.items():\n",
    "    total_freq += value\n",
    "    \n",
    "    if value < threshold:\n",
    "        rare_cnt += 1\n",
    "        rare_freq +=value\n",
    "print('단어 집합의 크기:', total_cnt)\n",
    "print('등장 빈도가 %s번 이하인 희귀 단어의 수 : %s'%(threshold-1 , rare_cnt))\n",
    "print('단어 집합에서 희귀 단어를 제외시킬 경우 단어 집합의 크기:', (total_cnt - rare_cnt))\n",
    "print('단어 집합에서 희귀 단어의 비율:', (rare_cnt/ total_cnt)*100)\n",
    "print('전체 등장 빈도에서 희귀 단어 등장 비율:', (rare_freq/total_freq) *100)"
   ]
  },
  {
   "cell_type": "code",
   "execution_count": 40,
   "id": "3a5dee77",
   "metadata": {},
   "outputs": [
    {
     "name": "stdout",
     "output_type": "stream",
     "text": [
      "input\n",
      "input  [[1, 24, 2125, 3181, 272, 5, 32, 2203, 5303], [1, 66, 1470, 396, 13, 2298, 592, 595, 926], [1, 2251, 2545, 216, 3, 5795, 642], [1, 22, 367, 8360, 3, 1629, 23, 41], [1, 3873, 7274, 555, 7, 927, 6, 6825, 2349]]\n",
      "target\n",
      "decoder  [[24, 2125, 3181, 272, 5, 32, 2203, 5303, 2], [66, 1470, 396, 13, 2298, 592, 595, 926, 2], [2251, 2545, 216, 3, 5795, 642, 2], [22, 367, 8360, 3, 1629, 23, 41, 2], [3873, 7274, 555, 7, 927, 6, 6825, 2349, 2]]\n"
     ]
    }
   ],
   "source": [
    "tar_vocab = 9000\n",
    "tar_tokenizer = Tokenizer(num_words= tar_vocab)\n",
    "tar_tokenizer.fit_on_texts(decoder_input_train)\n",
    "tar_tokenizer.fit_on_texts(decoder_target_train)\n",
    "\n",
    "# 텍스트 시퀀스를 정수 시퀀스로 변환\n",
    "decoder_input_train = tar_tokenizer.texts_to_sequences(decoder_input_train) \n",
    "decoder_target_train = tar_tokenizer.texts_to_sequences(decoder_target_train)\n",
    "decoder_input_test = tar_tokenizer.texts_to_sequences(decoder_input_test)\n",
    "decoder_target_test = tar_tokenizer.texts_to_sequences(decoder_target_test)\n",
    "\n",
    "# 잘 변환되었는지 확인\n",
    "print('input')\n",
    "print('input ',decoder_input_train[:5])\n",
    "print('target')\n",
    "print('decoder ',decoder_target_train[:5])"
   ]
  },
  {
   "cell_type": "markdown",
   "id": "b6ba6480",
   "metadata": {},
   "source": [
    "## 인코딩으로 인한 빈 샘플 제거\n",
    "빈도수가 적은 단어로 이루어진 문장의 경우 빈 샘플이 될 수 있습니다. 요약문의 경우 특히나 그렇기 때문에 빈 샘플을 찾겠습니다."
   ]
  },
  {
   "cell_type": "code",
   "execution_count": 41,
   "id": "84944ef2",
   "metadata": {},
   "outputs": [
    {
     "name": "stdout",
     "output_type": "stream",
     "text": [
      "삭제할 훈련 데이터의 개수 : 1\n",
      "삭제할 테스트 데이터의 개수 : 0\n"
     ]
    }
   ],
   "source": [
    "drop_train =[index for index, value in enumerate(decoder_input_train) if len(value) ==1]\n",
    "drop_test = [index for index, value in enumerate(decoder_input_test) if len(value) ==1]\n",
    "\n",
    "print('삭제할 훈련 데이터의 개수 :', len(drop_train))\n",
    "print('삭제할 테스트 데이터의 개수 :', len(drop_test))"
   ]
  },
  {
   "cell_type": "code",
   "execution_count": 42,
   "id": "071cab3d",
   "metadata": {},
   "outputs": [
    {
     "name": "stdout",
     "output_type": "stream",
     "text": [
      "훈련 데이터의 개수 : 71819\n",
      "훈련 레이블의 개수 : 71819\n",
      "테스트 데이터의 개수 : 17955\n",
      "테스트 레이블의 개수 : 17955\n"
     ]
    }
   ],
   "source": [
    "encoder_input_train = [value for index, value in enumerate(encoder_input_train) if index not in drop_train]\n",
    "decoder_input_train = [value for index, value in enumerate(decoder_input_train) if index not in drop_train]\n",
    "decoder_target_train = [value for index, value in enumerate(decoder_target_train) if index not in drop_train]\n",
    "\n",
    "encoder_input_test = [sentence for index, sentence in enumerate(encoder_input_test) if index not in drop_test]\n",
    "decoder_input_test = [sentence for index, sentence in enumerate(decoder_input_test) if index not in drop_test]\n",
    "decoder_target_test = [sentence for index, sentence in enumerate(decoder_target_test) if index not in drop_test]\n",
    "\n",
    "\n",
    "print('훈련 데이터의 개수 :', len(encoder_input_train))\n",
    "print('훈련 레이블의 개수 :', len(decoder_input_train))\n",
    "print('테스트 데이터의 개수 :', len(encoder_input_test))\n",
    "print('테스트 레이블의 개수 :', len(decoder_input_test))"
   ]
  },
  {
   "cell_type": "markdown",
   "id": "8b80d28d",
   "metadata": {},
   "source": [
    "## 패딩하기"
   ]
  },
  {
   "cell_type": "code",
   "execution_count": 43,
   "id": "bb390926",
   "metadata": {},
   "outputs": [],
   "source": [
    "encoder_input_train = pad_sequences(encoder_input_train, padding='post', maxlen = text_max_len)\n",
    "encoder_input_test = pad_sequences(encoder_input_test, padding='post', maxlen = text_max_len)\n",
    "\n",
    "decoder_input_train = pad_sequences(decoder_input_train, padding='post', maxlen = summary_max_len)\n",
    "decoder_input_test = pad_sequences(decoder_input_test, padding='post', maxlen = summary_max_len)\n",
    "\n",
    "decoder_target_train = pad_sequences(decoder_target_train, padding='post', maxlen = summary_max_len)\n",
    "decoder_target_test = pad_sequences(decoder_target_test, padding='post', maxlen = summary_max_len)\n"
   ]
  },
  {
   "cell_type": "markdown",
   "id": "e4b1c390",
   "metadata": {},
   "source": [
    "## 3. 모델 설계하기\n",
    "\n",
    "### 인코더"
   ]
  },
  {
   "cell_type": "code",
   "execution_count": 178,
   "id": "28fe809d",
   "metadata": {},
   "outputs": [],
   "source": [
    "from tensorflow.keras.layers import Input, LSTM, Embedding, Dense, Concatenate, TimeDistributed\n",
    "from tensorflow.keras.models import Model\n",
    "from tensorflow.keras.callbacks import EarlyStopping, ModelCheckpoint\n",
    "\n",
    "# 인코더 설계시작\n",
    "embedding_dim = 512\n",
    "hidden_size = 512\n",
    "\n",
    "# 인코더\n",
    "encoder_inputs = Input(shape=(text_max_len))\n",
    "# 인코더의 임베딩층\n",
    "enc_emb = Embedding(src_vocab,embedding_dim)(encoder_inputs)\n",
    "\n",
    "# 인코더 LSTM1\n",
    "encoder_lstm1 = LSTM(hidden_size, return_sequences=True, return_state= True, dropout=0.4)\n",
    "encoder_output1, state_h1, state_c1 = encoder_lstm1(enc_emb)\n",
    "\n",
    "# 인코더 LSTM1\n",
    "encoder_lstm2 = LSTM(hidden_size, return_sequences=True, return_state= True, dropout=0.4)\n",
    "encoder_output2, state_h2, state_c2 = encoder_lstm2(encoder_output1)\n",
    "\n",
    "#인코더의 LSTM3\n",
    "encoder_lstm3 = LSTM(hidden_size, return_sequences=True, return_state = True, dropout = 0.4)\n",
    "encoder_outputs, state_h, state_c = encoder_lstm3(encoder_output2)\n"
   ]
  },
  {
   "cell_type": "markdown",
   "id": "10d13c96",
   "metadata": {},
   "source": [
    "### 디코더"
   ]
  },
  {
   "cell_type": "code",
   "execution_count": 179,
   "id": "15480816",
   "metadata": {},
   "outputs": [],
   "source": [
    "# 디코더 설계\n",
    "decoder_inputs = Input(shape=(None,))\n",
    "# 디코더 임베딩 층\n",
    "dec_emb_layer = Embedding(tar_vocab, embedding_dim)\n",
    "dec_emb = dec_emb_layer(decoder_inputs)\n",
    "\n",
    "# 디코더의 LSTM\n",
    "decoder_lstm = LSTM(hidden_size, return_sequences=True, return_state=True, dropout=0.4)\n",
    "decoder_outputs, _, _ = decoder_lstm(dec_emb, initial_state=[state_h, state_c])"
   ]
  },
  {
   "cell_type": "code",
   "execution_count": 180,
   "id": "a4d358f9",
   "metadata": {},
   "outputs": [
    {
     "name": "stdout",
     "output_type": "stream",
     "text": [
      "Model: \"model_23\"\n",
      "__________________________________________________________________________________________________\n",
      " Layer (type)                   Output Shape         Param #     Connected to                     \n",
      "==================================================================================================\n",
      " input_33 (InputLayer)          [(None, 40)]         0           []                               \n",
      "                                                                                                  \n",
      " embedding_14 (Embedding)       (None, 40, 512)      9728000     ['input_33[0][0]']               \n",
      "                                                                                                  \n",
      " lstm_28 (LSTM)                 [(None, 40, 512),    2099200     ['embedding_14[0][0]']           \n",
      "                                 (None, 512),                                                     \n",
      "                                 (None, 512)]                                                     \n",
      "                                                                                                  \n",
      " input_34 (InputLayer)          [(None, None)]       0           []                               \n",
      "                                                                                                  \n",
      " lstm_29 (LSTM)                 [(None, 40, 512),    2099200     ['lstm_28[0][0]']                \n",
      "                                 (None, 512),                                                     \n",
      "                                 (None, 512)]                                                     \n",
      "                                                                                                  \n",
      " embedding_15 (Embedding)       (None, None, 512)    4608000     ['input_34[0][0]']               \n",
      "                                                                                                  \n",
      " lstm_30 (LSTM)                 [(None, 40, 512),    2099200     ['lstm_29[0][0]']                \n",
      "                                 (None, 512),                                                     \n",
      "                                 (None, 512)]                                                     \n",
      "                                                                                                  \n",
      " lstm_31 (LSTM)                 [(None, None, 512),  2099200     ['embedding_15[0][0]',           \n",
      "                                 (None, 512),                     'lstm_30[0][1]',                \n",
      "                                 (None, 512)]                     'lstm_30[0][2]']                \n",
      "                                                                                                  \n",
      " dense_14 (Dense)               (None, None, 9000)   4617000     ['lstm_31[0][0]']                \n",
      "                                                                                                  \n",
      "==================================================================================================\n",
      "Total params: 27,349,800\n",
      "Trainable params: 27,349,800\n",
      "Non-trainable params: 0\n",
      "__________________________________________________________________________________________________\n"
     ]
    }
   ],
   "source": [
    "# 디코더의 출력층\n",
    "decoder_softmax_layer = Dense(tar_vocab, activation='softmax')\n",
    "decoder_softmax_outputs = decoder_softmax_layer(decoder_outputs)\n",
    "\n",
    "# 모델 정의\n",
    "model = Model([encoder_inputs, decoder_inputs], decoder_softmax_outputs)\n",
    "model.summary()"
   ]
  },
  {
   "cell_type": "markdown",
   "id": "9fbabf0a",
   "metadata": {},
   "source": [
    "## 어텐션 결합하기"
   ]
  },
  {
   "cell_type": "markdown",
   "id": "f8e01357",
   "metadata": {},
   "source": [
    "디코더의 출력층에 어텐션을 결합하겠습니다. 여기서 사용하는 어텐션 함수는 Bahdanau스타일의 어텐션입니다.\n",
    "어텐션 층을 만들고 위에서 설계한 디코더 출력층을 수정하겠습니다."
   ]
  },
  {
   "cell_type": "code",
   "execution_count": 181,
   "id": "b7f378c5",
   "metadata": {},
   "outputs": [
    {
     "name": "stdout",
     "output_type": "stream",
     "text": [
      "Model: \"model_24\"\n",
      "__________________________________________________________________________________________________\n",
      " Layer (type)                   Output Shape         Param #     Connected to                     \n",
      "==================================================================================================\n",
      " input_33 (InputLayer)          [(None, 40)]         0           []                               \n",
      "                                                                                                  \n",
      " embedding_14 (Embedding)       (None, 40, 512)      9728000     ['input_33[0][0]']               \n",
      "                                                                                                  \n",
      " lstm_28 (LSTM)                 [(None, 40, 512),    2099200     ['embedding_14[0][0]']           \n",
      "                                 (None, 512),                                                     \n",
      "                                 (None, 512)]                                                     \n",
      "                                                                                                  \n",
      " input_34 (InputLayer)          [(None, None)]       0           []                               \n",
      "                                                                                                  \n",
      " lstm_29 (LSTM)                 [(None, 40, 512),    2099200     ['lstm_28[0][0]']                \n",
      "                                 (None, 512),                                                     \n",
      "                                 (None, 512)]                                                     \n",
      "                                                                                                  \n",
      " embedding_15 (Embedding)       (None, None, 512)    4608000     ['input_34[0][0]']               \n",
      "                                                                                                  \n",
      " lstm_30 (LSTM)                 [(None, 40, 512),    2099200     ['lstm_29[0][0]']                \n",
      "                                 (None, 512),                                                     \n",
      "                                 (None, 512)]                                                     \n",
      "                                                                                                  \n",
      " lstm_31 (LSTM)                 [(None, None, 512),  2099200     ['embedding_15[0][0]',           \n",
      "                                 (None, 512),                     'lstm_30[0][1]',                \n",
      "                                 (None, 512)]                     'lstm_30[0][2]']                \n",
      "                                                                                                  \n",
      " attention_layer (AdditiveAtten  (None, None, 512)   512         ['lstm_31[0][0]',                \n",
      " tion)                                                            'lstm_30[0][0]']                \n",
      "                                                                                                  \n",
      " concat_layer (Concatenate)     (None, None, 1024)   0           ['lstm_31[0][0]',                \n",
      "                                                                  'attention_layer[0][0]']        \n",
      "                                                                                                  \n",
      " dense_15 (Dense)               (None, None, 9000)   9225000     ['concat_layer[0][0]']           \n",
      "                                                                                                  \n",
      "==================================================================================================\n",
      "Total params: 31,958,312\n",
      "Trainable params: 31,958,312\n",
      "Non-trainable params: 0\n",
      "__________________________________________________________________________________________________\n"
     ]
    }
   ],
   "source": [
    "from tensorflow.keras.layers import AdditiveAttention\n",
    "\n",
    "# 어텐션층(어텐션함수)\n",
    "attn_layer = AdditiveAttention(name='attention_layer')\n",
    "\n",
    "# 인코더와 디코더의 모든 timestep의 hiddenstate를 어텐션층에 전달하고 리턴\n",
    "attn_out = attn_layer([decoder_outputs, encoder_outputs])\n",
    "\n",
    "# 어텐션의 결과와 디코더의 hidden state들을 연결\n",
    "decoder_concat_input = Concatenate(axis=-1, name='concat_layer')([decoder_outputs, attn_out])\n",
    "\n",
    "# 디코더의 출력층\n",
    "decoder_softmax_layer = Dense(tar_vocab, activation='softmax')\n",
    "decoder_softmax_outputs = decoder_softmax_layer(decoder_concat_input)\n",
    "\n",
    "# 모델정의\n",
    "model = Model([encoder_inputs, decoder_inputs], decoder_softmax_outputs)\n",
    "model.summary()"
   ]
  },
  {
   "cell_type": "markdown",
   "id": "42ee76c5",
   "metadata": {},
   "source": [
    "## 4. 모델 훈련하기"
   ]
  },
  {
   "cell_type": "code",
   "execution_count": 182,
   "id": "e40ddbf5",
   "metadata": {},
   "outputs": [
    {
     "name": "stdout",
     "output_type": "stream",
     "text": [
      "Epoch 1/50\n",
      "562/562 [==============================] - 69s 116ms/step - loss: 5.2250 - val_loss: 5.6039\n",
      "Epoch 2/50\n",
      "562/562 [==============================] - 67s 119ms/step - loss: 4.4529 - val_loss: 5.4135\n",
      "Epoch 3/50\n",
      "562/562 [==============================] - 68s 121ms/step - loss: 4.0369 - val_loss: 5.4438\n",
      "Epoch 4/50\n",
      "562/562 [==============================] - 68s 121ms/step - loss: 3.7469 - val_loss: 5.3462\n",
      "Epoch 5/50\n",
      "562/562 [==============================] - 69s 122ms/step - loss: 3.5264 - val_loss: 5.5281\n",
      "Epoch 6/50\n",
      "562/562 [==============================] - 69s 122ms/step - loss: 3.3404 - val_loss: 5.5594\n",
      "Epoch 6: early stopping\n"
     ]
    }
   ],
   "source": [
    "model.compile(optimizer='rmsprop', loss='sparse_categorical_crossentropy')\n",
    "es = EarlyStopping(monitor = 'val_loss', patience=2, verbose=1)\n",
    "history = model.fit(x=[encoder_input_train, decoder_input_train], y= decoder_target_train,\n",
    "                   validation_data=([encoder_input_test, decoder_target_test], decoder_target_test),\n",
    "                    batch_size=128, callbacks=[es], epochs=50)"
   ]
  },
  {
   "cell_type": "code",
   "execution_count": 183,
   "id": "b395e851",
   "metadata": {},
   "outputs": [
    {
     "data": {
      "image/png": "[encoded data removed]",
      "text/plain": [
       "<Figure size 640x480 with 1 Axes>"
      ]
     },
     "metadata": {},
     "output_type": "display_data"
    }
   ],
   "source": [
    "plt.plot(history.history['loss'], label = 'train')\n",
    "plt.plot(history.history['val_loss'],label = 'test')\n",
    "plt.legend()\n",
    "plt.show()"
   ]
  },
  {
   "cell_type": "markdown",
   "id": "2a5763a2",
   "metadata": {},
   "source": [
    "## 5. 인퍼런스 모델 구현하기"
   ]
  },
  {
   "cell_type": "code",
   "execution_count": 184,
   "id": "dbe465fc",
   "metadata": {},
   "outputs": [],
   "source": [
    "src_index_to_word = src_tokenizer.index_word # 원문 단어 집합에서 정수 -> 단어를 얻음\n",
    "tar_word_to_index = tar_tokenizer.word_index # 요약 단어 집합에서 단어 -> 정수를 얻음\n",
    "tar_index_to_word = tar_tokenizer.index_word # 요약 단어 집합에서 정수 -> 단어를 얻음"
   ]
  },
  {
   "cell_type": "code",
   "execution_count": 185,
   "id": "d891e403",
   "metadata": {},
   "outputs": [],
   "source": [
    "# 인코더 설계\n",
    "encoder_model = Model(inputs = encoder_inputs, outputs = [encoder_outputs, state_h, state_c])\n",
    "\n",
    "# 이전 시점의 상태들을 저장하는 텐서\n",
    "decoder_state_input_h = Input(shape=(hidden_size,))\n",
    "decoder_state_input_c = Input(shape=(hidden_size,))\n",
    "\n",
    "dec_emb2 = dec_emb_layer(decoder_inputs)\n",
    "decoder_outputs2, state_h2, state_c2 = decoder_lstm(dec_emb2, initial_state=[decoder_state_input_h, decoder_state_input_c])"
   ]
  },
  {
   "cell_type": "code",
   "execution_count": 186,
   "id": "1b049803",
   "metadata": {},
   "outputs": [],
   "source": [
    "# 어텐션 함수\n",
    "decoder_hidden_state_input = Input(shape=(text_max_len,hidden_size))\n",
    "attn_out_inf = attn_layer([decoder_outputs2, decoder_hidden_state_input])\n",
    "decoder_inf_concat = Concatenate(axis=-1, name='concat')([decoder_outputs2, attn_out_inf])\n",
    "\n",
    "# 디코더의 출력층\n",
    "decoder_outputs2 = decoder_softmax_layer(decoder_inf_concat)\n",
    "\n",
    "# 최종 디코더 모델\n",
    "decoder_model = Model([decoder_inputs]+[decoder_hidden_state_input, decoder_state_input_h,decoder_state_input_c],\n",
    "                     [decoder_outputs2]+[state_h2, state_c2])"
   ]
  },
  {
   "cell_type": "code",
   "execution_count": 187,
   "id": "7c231090",
   "metadata": {},
   "outputs": [],
   "source": [
    "def decode_sequence(input_seq):\n",
    "    # 입력으로부터 인코더의 상태를 얻음\n",
    "    e_out, e_h, e_c = encoder_model.predict(input_seq,verbose=0)\n",
    "    \n",
    "    # <sos> 토큰 생성\n",
    "    target_seq = np.zeros((1,1))\n",
    "    target_seq[0,0] = tar_word_to_index['sostoken']\n",
    "    \n",
    "    stop_condition = False\n",
    "    decoded_sentence =''\n",
    "    \n",
    "    while not stop_condition:\n",
    "        output_tokens, h, c = decoder_model.predict([target_seq]+[e_out, e_c, e_h],verbose=0)\n",
    "        sampled_token_index = np.argmax(output_tokens[0,-1,:])\n",
    "        sampled_token = tar_index_to_word[sampled_token_index]\n",
    "        \n",
    "        if (sampled_token != 'eostoken'):\n",
    "            decoded_sentence += ' ' +sampled_token\n",
    "        \n",
    "        if (sampled_token == 'eostoken' or len(decoded_sentence.split()) >= (summary_max_len)-1):\n",
    "            stop_condition = True\n",
    "        \n",
    "        target_seq = np.zeros((1,1))\n",
    "        target_seq[0,0] = sampled_token_index\n",
    "        e_h, e_c = h, c\n",
    "        \n",
    "    return decoded_sentence"
   ]
  },
  {
   "cell_type": "markdown",
   "id": "ebd8ca87",
   "metadata": {},
   "source": [
    "## 6. 모델 테스트하기"
   ]
  },
  {
   "cell_type": "code",
   "execution_count": 188,
   "id": "a9952517",
   "metadata": {},
   "outputs": [],
   "source": [
    "# 원문 정수시퀀스 변환\n",
    "def seq2text(input_seq):\n",
    "    temp = ''\n",
    "    for i in input_seq:\n",
    "        if i != 0:\n",
    "            temp += src_index_to_word[i] + ' '\n",
    "    return temp\n",
    "\n",
    "# 요약문 변환\n",
    "def seq2summary(input_seq):\n",
    "    temp=''\n",
    "    for i in input_seq:\n",
    "        if ((i!=0 and i!=tar_word_to_index['sostoken'] and i!= tar_word_to_index['eostoken'])):\n",
    "            temp += tar_index_to_word[i] + ' '\n",
    "    return temp"
   ]
  },
  {
   "cell_type": "code",
   "execution_count": 189,
   "id": "acb19c95",
   "metadata": {},
   "outputs": [
    {
     "name": "stdout",
     "output_type": "stream",
     "text": [
      "원문: mumbai court friday acquitted delhi cm arvind kejriwal seven others allegedly holding political rally without required police permission lok sabha polls metropolitan magistrate pk deshpande observed police failed give written statement accused persons refusing permission rally \n",
      "실제 요약: arvind kejriwal acquitted in lok sabha poll rally case \n",
      "예측 요약:  curb kejriwal\n",
      "\n",
      "\n",
      "원문: aam aadmi party saturday alleged clear evidence manipulation evms polling booths punjab assembly elections party appealed election commission cross verify results polling booths voter verified paper audit trail machines deployed paper trail \n",
      "실제 요약: there is clear evidence of evm aap \n",
      "예측 요약:  to evms evms ec\n",
      "\n",
      "\n",
      "원문: year old employee housekeeping firm mumbai allegedly stabbed manager six times office paying salary accused reportedly also took wife daughters office request release salary money manager said critical condition \n",
      "실제 요약: mumbai man stabs manager times for refusing to pay salary \n",
      "예측 요약:  to pay duping posing scrap\n",
      "\n",
      "\n",
      "원문: desh film based red fort trials heavy dose patriotism totally worth time wrote hindustan times ndtv wrote film reminds sacrifices brave men women times india said film socio political climate time rated \n",
      "실제 요약: film on red fort trials desh hits theatres \n",
      "예측 요약:  in\n",
      "\n",
      "\n",
      "원문: austrian police charged germans eight men four women violating anti nazi laws reportedly putting swastika stickers bar raising arms adolf hitler salute according reports accused age group denied wrongdoing notably austria strictly prohibits praise nazi ideology \n",
      "실제 요약: face charges for stickers \n",
      "예측 요약:  to vote curb voting\n",
      "\n",
      "\n",
      "원문: china world highest valued artificial intelligence startup billion raised million part series funding round latest round led international capital silver lake tiger global announcement comes months said raised million alibaba com singapore temasek \n",
      "실제 요약: world most valued ai startup raises million \n",
      "예측 요약:  to billion in\n",
      "\n",
      "\n",
      "원문: dog broken guinness world record balloons seconds record fastest time pop balloons dog set th birthday canada previous record seconds held jack russell \n",
      "실제 요약: dog breaks guinness world record by balloons \n",
      "예측 요약:  to record\n",
      "\n",
      "\n",
      "원문: railways officials security personnel ran relief sorties submerged tracks assam help people affected floods state medicines food relief material provided people taken shelter railway platforms railways also appointed spare coaches families take refuge \n",
      "실제 요약: railways runs relief on amid flood in assam \n",
      "예측 요약:  flood flood victims maha\n",
      "\n",
      "\n",
      "원문: madhya pradesh chief minister shivraj singh chouhan wednesday announced celebrate diwali traditionally claiming environment important traditions arguing firecrackers alone contribute pollution chouhan added would light lamps also burst crackers state recently banned use high firecrackers \n",
      "실제 요약: environment important but so are mp cm chouhan \n",
      "예측 요약:  to open madhya pradesh\n",
      "\n",
      "\n",
      "원문: senior journalist gauri lankesh buried full state honours given gun salute cemetery bengaluru wednesday funeral attended several karnataka ministers including chief minister siddaramaiah called murder assassination democracy lankesh shot dead unidentified assailants home tuesday \n",
      "실제 요약: murdered bengaluru journalist given gun salute at funeral \n",
      "예측 요약:  journalist murder journalist\n",
      "\n",
      "\n",
      "원문: police arrested year old supervisor allegedly raping year old maid private hospital bengaluru maid said accused followed went inside bathroom clean raped however also claimed police officials humiliated asking incident could happen without co operation \n",
      "실제 요약: maid raped in luru hospital police question her \n",
      "예측 요약:  raped raped raped\n",
      "\n",
      "\n",
      "원문: telecom minister manoj sinha said state owned telecom operator bsnl many bigger opportunities near future mobile added market share bsnl improved said works worth crore allotted bsnl smart city projects \n",
      "실제 요약: bsnl has bigger in near future manoj sinha \n",
      "예측 요약:  curb\n",
      "\n",
      "\n",
      "원문: actor varun dhawan said even know actress alia bhatt debuted together film student year people think knew kids since fathers filmmakers said varun praising alia varun said love focused work \n",
      "실제 요약: did not know alia before student of the year varun \n",
      "예측 요약:  varun produce varun varun varun\n",
      "\n",
      "\n",
      "원문: reports approximately dozen cases haryana two women delhi complained chopped unknown persons cases wherein women see chopped occurred village following villagers decided inform police take turns keep round clock guard \n",
      "실제 요약: women claim their being chopped off by unknown people \n",
      "예측 요약:  to in cases\n",
      "\n",
      "\n",
      "원문: consortium lenders led bank maharashtra taken symbolic possession pune maharashtra cricket association stadium non payment loan stadium authorities maharashtra cricket association failed repay dues crore bank maharashtra karnataka bank bank baroda andhra bank despite served day notice august \n",
      "실제 요약: banks take possession of pune stadium over loan default \n",
      "예측 요약:  bank of banks\n",
      "\n",
      "\n",
      "원문: study australian researchers found approximately bitcoin transactions associated illegal trade study added illegal activity amounting billion annually involves bitcoin almost size us european markets illegal drugs however said bitcoin could alternative payment method old crimes \n",
      "실제 요약: bitcoin transactions are for illegal activities study \n",
      "예측 요약:  bitcoin acquire study\n",
      "\n",
      "\n",
      "원문: year old man monday attempted kill front karnataka chief minister siddaramaiah addressing event bengaluru man ran front tried consume pesticide carrying pocket caught two police officers rushed hospital \n",
      "실제 요약: man attempts suicide in front of karnataka cm siddaramaiah \n",
      "예측 요약:  cm taka cm\n",
      "\n",
      "\n",
      "원문: name india first satellite chosen prime minister indira gandhi suggested three names satellite named th century indian astronomer mathematician suggestions jawahar notably satellite launched years ago wednesday \n",
      "실제 요약: how was the name for india first satellite decided \n",
      "예측 요약:  on pm invest\n",
      "\n",
      "\n",
      "원문: fatima sana shaikh film dangal completing two years release shared pictures film sets wrote dangal beautiful journey everybody met process extremely special precious every moment still love guys much wrote dangal released december \n",
      "실제 요약: dangal has been beautiful journey fatima on yrs of film \n",
      "예측 요약:  to star in film\n",
      "\n",
      "\n",
      "원문: competition commission india approved acquisition billionaire kumar mangalam birla supermarket chain amazon private equity fund capital cci done due diligence impact competition perspective amazon modify deal made last september around crore comply revised fdi norms per reports \n",
      "실제 요약: amazon acquisition of more retail chain gets cci nod \n",
      "예측 요약:  amazon acquire amazon amazon\n",
      "\n",
      "\n"
     ]
    }
   ],
   "source": [
    "for i in range(2000,2020):\n",
    "    print('원문:',seq2text(encoder_input_test[i]))\n",
    "    print('실제 요약:', seq2summary(decoder_input_test[i]))\n",
    "    print('예측 요약:', decode_sequence(encoder_input_test[i].reshape(1, text_max_len)))\n",
    "    print('\\n')"
   ]
  },
  {
   "cell_type": "markdown",
   "id": "26e969c6",
   "metadata": {},
   "source": [
    "## 7. 추출적 요약 해보기\n",
    "Summa 패키지의 summarize 모듈을 사용하여 추출적 요약을 진행하겠습니다.\n",
    ">text (str) : 요약할 테스트.   \n",
    "ratio (float, optional) – 요약문에서 원본에서 선택되는 문장 비율. 0~1 사이값   \n",
    "words (int or None, optional) – 출력에 포함할 단어 수.   \n",
    "만약, ratio와 함께 두 파라미터가 모두 제공되는 경우 ratio는 무시한다.   \n",
    "split (bool, optional) – True면 문장 list / False는 조인(join)된 문자열을 반환"
   ]
  },
  {
   "cell_type": "code",
   "execution_count": 155,
   "id": "f395bafd",
   "metadata": {},
   "outputs": [],
   "source": [
    "import urllib.request\n",
    "urllib.request.urlretrieve(\"https://raw.githubusercontent.com/sunnysai12345/News_Summary/master/news_summary_more.csv\", filename=\"news_summary_more.csv\")\n",
    "temp = pd.read_csv('news_summary_more.csv', encoding='iso-8859-1')"
   ]
  },
  {
   "cell_type": "code",
   "execution_count": 156,
   "id": "f3b9eb70",
   "metadata": {},
   "outputs": [
    {
     "data": {
      "text/html": [
       "<div>\n",
       "<style scoped>\n",
       "    .dataframe tbody tr th:only-of-type {\n",
       "        vertical-align: middle;\n",
       "    }\n",
       "\n",
       "    .dataframe tbody tr th {\n",
       "        vertical-align: top;\n",
       "    }\n",
       "\n",
       "    .dataframe thead th {\n",
       "        text-align: right;\n",
       "    }\n",
       "</style>\n",
       "<table border=\"1\" class=\"dataframe\">\n",
       "  <thead>\n",
       "    <tr style=\"text-align: right;\">\n",
       "      <th></th>\n",
       "      <th>headlines</th>\n",
       "      <th>text</th>\n",
       "    </tr>\n",
       "  </thead>\n",
       "  <tbody>\n",
       "    <tr>\n",
       "      <th>60716</th>\n",
       "      <td>Delhi MLAs tie protective mask on Mahatma Gand...</td>\n",
       "      <td>Suspended AAP MLA Kapil Mishra and SAD-BJP MLA...</td>\n",
       "    </tr>\n",
       "    <tr>\n",
       "      <th>64467</th>\n",
       "      <td>What are the health benefits of Iron in the body?</td>\n",
       "      <td>Lack of iron in the body could lead to fatigue...</td>\n",
       "    </tr>\n",
       "    <tr>\n",
       "      <th>69110</th>\n",
       "      <td>World's largest aircraft completes first engin...</td>\n",
       "      <td>The world's largest aircraft 'Stratolaunch' bu...</td>\n",
       "    </tr>\n",
       "    <tr>\n",
       "      <th>77393</th>\n",
       "      <td>Smoke in Delhi Metro train causes panic</td>\n",
       "      <td>Passengers panicked and deboarded a Delhi Metr...</td>\n",
       "    </tr>\n",
       "    <tr>\n",
       "      <th>93690</th>\n",
       "      <td>Trump calls man being dragged off plane incide...</td>\n",
       "      <td>US President Donald Trump has called the Unite...</td>\n",
       "    </tr>\n",
       "    <tr>\n",
       "      <th>67379</th>\n",
       "      <td>Psychopath Trump's acts will reduce US into fl...</td>\n",
       "      <td>Describing US President Donald Trump as an \"ol...</td>\n",
       "    </tr>\n",
       "    <tr>\n",
       "      <th>67307</th>\n",
       "      <td>Kajol, Rani to make cameo in SRK's dwarf film:...</td>\n",
       "      <td>According to reports, five actresses including...</td>\n",
       "    </tr>\n",
       "    <tr>\n",
       "      <th>22443</th>\n",
       "      <td>Ex-400m hurdles world champ dies in car crash ...</td>\n",
       "      <td>Nicholas Bett, the former 400m hurdles world c...</td>\n",
       "    </tr>\n",
       "    <tr>\n",
       "      <th>89249</th>\n",
       "      <td>Indian startup's CEO claims being stalked, bul...</td>\n",
       "      <td>Vijay Nair, Founder and CEO of Mumbai-based ne...</td>\n",
       "    </tr>\n",
       "    <tr>\n",
       "      <th>6088</th>\n",
       "      <td>Court rules Obamacare unconstitutional; Trump ...</td>\n",
       "      <td>A US federal judge on Friday ruled that the Af...</td>\n",
       "    </tr>\n",
       "  </tbody>\n",
       "</table>\n",
       "</div>"
      ],
      "text/plain": [
       "                                               headlines  \\\n",
       "60716  Delhi MLAs tie protective mask on Mahatma Gand...   \n",
       "64467  What are the health benefits of Iron in the body?   \n",
       "69110  World's largest aircraft completes first engin...   \n",
       "77393            Smoke in Delhi Metro train causes panic   \n",
       "93690  Trump calls man being dragged off plane incide...   \n",
       "67379  Psychopath Trump's acts will reduce US into fl...   \n",
       "67307  Kajol, Rani to make cameo in SRK's dwarf film:...   \n",
       "22443  Ex-400m hurdles world champ dies in car crash ...   \n",
       "89249  Indian startup's CEO claims being stalked, bul...   \n",
       "6088   Court rules Obamacare unconstitutional; Trump ...   \n",
       "\n",
       "                                                    text  \n",
       "60716  Suspended AAP MLA Kapil Mishra and SAD-BJP MLA...  \n",
       "64467  Lack of iron in the body could lead to fatigue...  \n",
       "69110  The world's largest aircraft 'Stratolaunch' bu...  \n",
       "77393  Passengers panicked and deboarded a Delhi Metr...  \n",
       "93690  US President Donald Trump has called the Unite...  \n",
       "67379  Describing US President Donald Trump as an \"ol...  \n",
       "67307  According to reports, five actresses including...  \n",
       "22443  Nicholas Bett, the former 400m hurdles world c...  \n",
       "89249  Vijay Nair, Founder and CEO of Mumbai-based ne...  \n",
       "6088   A US federal judge on Friday ruled that the Af...  "
      ]
     },
     "execution_count": 156,
     "metadata": {},
     "output_type": "execute_result"
    }
   ],
   "source": [
    "temp.sample(10)"
   ]
  },
  {
   "cell_type": "markdown",
   "id": "e107df24",
   "metadata": {},
   "source": [
    "## 원본 사용 비율 제한"
   ]
  },
  {
   "cell_type": "code",
   "execution_count": 192,
   "id": "a3020683",
   "metadata": {},
   "outputs": [
    {
     "name": "stdout",
     "output_type": "stream",
     "text": [
      "원문: Deutsche Bank's India Chief Executive Officer (CEO) Ravneet Singh Gill is reportedly the frontrunner for private sector lender Yes Bank's CEO post. Gill and Yes Bank Senior Group President Rajat Monga were the candidates recommended by the lender's board to replace Rana Kapoor, reports added. The Reserve Bank of India has asked Kapoor to step down by January 31.\n",
      "실제 요약: Deutsche Bank's India CEO in race for Yes Bank CEO: Reports\n",
      "예측 요약: Gill and Yes Bank Senior Group President Rajat Monga were the candidates recommended by the lender's board to replace Rana Kapoor, reports added.\n",
      "\n",
      "\n",
      "원문: The country's trade deficit narrowed to a 10-month low of $13.08 billion in December, compared with $14.20 billion in the year-ago period. Lower crude oil prices and falling gold demand reduced the burden on the import bill. Merchandise exports rose just 0.34% from a year earlier to $27.93 billion, while imports fell 2.44% to $41.01 billion during the month.\n",
      "실제 요약: India's trade deficit hits 10-month low of $13.08 bn in December\n",
      "예측 요약: Merchandise exports rose just 0.34% from a year earlier to $27.93 billion, while imports fell 2.44% to $41.01 billion during the month.\n",
      "\n",
      "\n",
      "원문: Aviation Secretary Rajiv Nayan Choubey has said the country will add 1,000 aircraft over the next 7-8 years. In another 15 years, there will be 100 new airports, he added. India's domestic aviation growth, which has been the highest in the world, will be sustained for at least 20 more years if the oil prices are favourable, Choubey further said.\n",
      "실제 요약: India will add 1,000 aircraft in 7-8 years: Aviation Secretary\n",
      "예측 요약: Aviation Secretary Rajiv Nayan Choubey has said the country will add 1,000 aircraft over the next 7-8 years.\n",
      "\n",
      "\n",
      "원문: Ex-India batsman VVS Laxman has said that suspended cricketers Hardik Pandya and KL Rahul have been rightfully punished over their comments on women on 'Koffee with Karan'. \"We should show some empathy to them. They are young, it's a challenge for such young minds to be mature,\" he added. \"It's important to teach them how to conduct themselves,\" he added.\n",
      "실제 요약: We should show some empathy to Pandya and KL Rahul: VVS Laxman\n",
      "예측 요약: They are young, it's a challenge for such young minds to be mature,\" he added.\n",
      "\n",
      "\n",
      "원문: Ex-South Africa captain Jacques Kallis got married to his longtime girlfriend Charlene Engels at Bona Dea Estate in Western Cape last weekend. The wedding was threatened to be postponed after a wildfire damaged gardens and a building near the venue. \"It started with a fire...now we just need to keep the fire burning in our marriage,\" Charlene wrote on Instagram.\n",
      "실제 요약: Kallis marries longtime girlfriend amid wildfire near wedding venue\n",
      "예측 요약: Ex-South Africa captain Jacques Kallis got married to his longtime girlfriend Charlene Engels at Bona Dea Estate in Western Cape last weekend.\n",
      "\n",
      "\n",
      "원문: Apple COO Jeff Williams has said Qualcomm refused to provide modem chips for the 2018 iPhones after Apple sued the chipmaker in 2017. Williams added that Qualcomm's royalty fee of $7.50 per iPhone is too high. The US sued Qualcomm alleging the company used its dominant position to force customers to use its products and charge high patent licensing fees.n\n",
      "실제 요약: Qualcomm refused to provide chips for 2018 iPhones: Apple COO\n",
      "예측 요약: Williams added that Qualcomm's royalty fee of $7.50 per iPhone is too high.\n",
      "\n",
      "\n",
      "원문: After Congress President Rahul Gandhi took a dig at PM Narendra Modi on winning first-ever Philip Kotler Presidential Award, Union Minister Smriti Irani said, \"Rich!!! Coming from a person whose illustrious family decided to confer the 'Bharat Ratna' on themselves.\" Rahul called it a \"world famous\" award that had \"no jury\" and was backed by \"an unheard of Aligarh company\". \n",
      "실제 요약: Rahul's family gave Ã¢ÂÂBharat RatnaÃ¢ÂÂ to themselves: Smriti Irani\n",
      "예측 요약: \n",
      "\n",
      "\n",
      "원문: Elon Musk-led electric carmaker Tesla has announced it will offer a brand new Model 3 car to cybersecurity researchers who will identify security bugs with the car's software at an annual cybersecurity contest 'Pwn2Own' in Canada. For the first time this year, the competition has added an automotive category. Tesla first launched a 'bug bounty' program in 2014.\n",
      "실제 요약: Tesla to give Model 3 car as reward for finding security bugs\n",
      "예측 요약: Elon Musk-led electric carmaker Tesla has announced it will offer a brand new Model 3 car to cybersecurity researchers who will identify security bugs with the car's software at an annual cybersecurity contest 'Pwn2Own' in Canada.\n",
      "\n",
      "\n",
      "원문: Two men from Rajasthan's Hanumangarh district got used condoms wrapped in old newspaper in response to their RTI queries seeking details of development projects undertaken since 2001. \"I cannot believe the civic body can reply in such a foul manner,\" a recipient said. Meanwhile, Hanumangarh Zila Parishad CEO called it a \"mischievous act\" and assured a probe into the incident.\n",
      "실제 요약: Men file RTI query on development work, get used condoms in reply\n",
      "예측 요약: Two men from Rajasthan's Hanumangarh district got used condoms wrapped in old newspaper in response to their RTI queries seeking details of development projects undertaken since 2001.\n",
      "\n",
      "\n",
      "원문: At least six people died and 36 were rescued after a boat capsized in the Narmada river in Maharashtra's Nandurbar. \"The boat was carrying around 60 people who were on...way to perform a river worship ritual,\" an official said. It is suspected that the incident occurred as the boat was carrying more people than its capacity, the police said.\n",
      "실제 요약: 6 drown after boat capsizes in Narmada river, 36 rescued\n",
      "예측 요약: \"The boat was carrying around 60 people who were on...way to perform a river worship ritual,\" an official said.\n",
      "\n",
      "\n",
      "원문: A Russian man, whose car was loaded by authorities on a tow truck, got inside his vehicle and freed it before escaping. \"Step aside so I don't run you over,\" the man can be heard warning the authorities in a video of the incident that surfaced online. The bumper of the car got damaged as he reversed it.\n",
      "실제 요약: Russian man's car loaded on tow truck; he gets inside it & frees it\n",
      "예측 요약: A Russian man, whose car was loaded by authorities on a tow truck, got inside his vehicle and freed it before escaping.\n",
      "\n",
      "\n",
      "원문: Tulip Siddiq, a 36-year-old British MP, who was due to have a Caesarian section on Tuesday, has delayed the operation until Thursday to take part in the ongoing Brexit vote. Siddiq said it was \"worth fighting for a strong relationship between Britain and Europe\" even if she had to delay giving birth. Siddiq is the grand-daughter of Bangladesh's first President.\n",
      "실제 요약: British MP delays giving birth by 2 days to vote on Brexit\n",
      "예측 요약: Siddiq said it was \"worth fighting for a strong relationship between Britain and Europe\" even if she had to delay giving birth.\n",
      "\n",
      "\n",
      "원문: Ren Zhengfei, the billionaire Founder and CEO of Huawei, broke a years-long silence to reject claims that his company is used by China for spying. \"I still love my country, I support the Communist party, but I will never do anything to harm any country in the world,\" Ren added. The 74-year-old last spoke with foreign media in 2015.\n",
      "실제 요약: Huawei doesn't spy for China: Founder breaks years-long silence\n",
      "예측 요약: Ren Zhengfei, the billionaire Founder and CEO of Huawei, broke a years-long silence to reject claims that his company is used by China for spying.\n",
      "\n",
      "\n",
      "원문: In his first interview with the foreign media since 2015, Huawei Founder and CEO Ren Zhengfei said that he missed his daughter Meng Wanzhou \"very much\". Meng, who is Huawei's CFO, is in Canada facing extradition to the US on allegations of helping defraud banks to avoid sanctions on Iran. Ren also called US President Donald Trump \"a great President\".\n",
      "실제 요약: I miss my daughter 'very much': Huawei Founder breaks silence\n",
      "예측 요약: In his first interview with the foreign media since 2015, Huawei Founder and CEO Ren Zhengfei said that he missed his daughter Meng Wanzhou \"very much\".\n",
      "\n",
      "\n",
      "원문: Cathay Pacific has mistakenly sold its one-way first class flight tickets from Portugal to Hong Kong originally valued at $16,000 for economy rates of $1,512. Two weeks ago, the Hong Kong-based airline mistakenly sold business-class return tickets costing $16,000 from Vietnam to New York at $675. The airline said it would still give premium services to customers with those tickets.\n",
      "실제 요약: Cathay Pacific sells $16,000 ticket for $1,500; 2nd time in 2 weeks\n",
      "예측 요약: Two weeks ago, the Hong Kong-based airline mistakenly sold business-class return tickets costing $16,000 from Vietnam to New York at $675.\n",
      "\n",
      "\n",
      "원문: Kangana Ranaut revealed that she felt \"suffocated\" after the failure of her film 'Simran', as filmmakers Karan Johar, Rakesh Roshan and several others, singled her out for criticism. \"The industry was having these intense meetings to make sure I was put in my place,\" the actress added. Kangana further said that she felt \"cornered\" at the time. \n",
      "실제 요약: Karan Johar, Rakesh Roshan singled me out for criticism: Kangana\n",
      "예측 요약: Kangana Ranaut revealed that she felt \"suffocated\" after the failure of her film 'Simran', as filmmakers Karan Johar, Rakesh Roshan and several others, singled her out for criticism.\n",
      "\n",
      "\n",
      "원문: Actor Ranveer Singh said that when it comes to his film choices, playing it safe doesn't excite him as an artiste. \"I want to challenge myself, take bigger risks and entertain people who want to pay money to come to theatres to watch a good performance,\" the actor added. Ranveer further said he likes to \"become someone else on screen\".\n",
      "실제 요약: Playing it safe doesn't excite me: Ranveer on film choices\n",
      "예측 요약: Actor Ranveer Singh said that when it comes to his film choices, playing it safe doesn't excite him as an artiste.\n",
      "\n",
      "\n",
      "원문: Indian captain Virat Kohli now has seven more ODI tons than the combined number of ODI tons by England's Joe Root, Australia's Steve Smith and New Zealand's Kane Williamson. Kohli scored his 32nd ton in a winning cause in the second India-Australia ODI, helping India level the series 1-1. Kohli was named Man of the Match for his performance.\n",
      "실제 요약: Kohli has 7 more ODI tons than Root, Williamson, Smith combined\n",
      "예측 요약: Kohli scored his 32nd ton in a winning cause in the second India-Australia ODI, helping India level the series 1-1.\n",
      "\n",
      "\n",
      "원문: Croatian tennis player Ivo Karlovic became the oldest man to win a match at the Australian Open in over 40 years after serving 39 aces to go past Poland's Hubert Hurkacz. World number 73 Karlovic, who will turn 40 on February 28, also became the oldest winner at any Grand Slam since 40-year-old Jimmy Connors' win at 1992's US Open.\n",
      "실제 요약: Karlovic becomes oldest man in 40 yrs to win an Aus Open match\n",
      "예측 요약: \n",
      "\n",
      "\n",
      "원문: Microsoft has revealed that it will not provide any security updates or support for PCs running on 'Windows 7' after January 14, 2020. Users can still use 'Windows 7' but the company has said PCs \"will become more vulnerable to security risks\" after the support ends. 'Windows 7' was first released in October 2009.\n",
      "실제 요약: Microsoft to end all support for 'Windows 7' in 2020\n",
      "예측 요약: Microsoft has revealed that it will not provide any security updates or support for PCs running on 'Windows 7' after January 14, 2020.\n",
      "\n",
      "\n"
     ]
    }
   ],
   "source": [
    "from summa.summarizer import summarize\n",
    "for i in range(2000,2020):\n",
    "    print('원문:',temp['text'][i])\n",
    "    print('실제 요약:' ,temp['headlines'][i])\n",
    "    print('예측 요약:', summarize(temp['text'][i], ratio=0.4))\n",
    "    print('\\n')"
   ]
  },
  {
   "cell_type": "markdown",
   "id": "d35e5c41",
   "metadata": {},
   "source": [
    "## 단어 사용 제한"
   ]
  },
  {
   "cell_type": "code",
   "execution_count": 193,
   "id": "8eac9960",
   "metadata": {},
   "outputs": [
    {
     "name": "stdout",
     "output_type": "stream",
     "text": [
      "원문: Deutsche Bank's India Chief Executive Officer (CEO) Ravneet Singh Gill is reportedly the frontrunner for private sector lender Yes Bank's CEO post. Gill and Yes Bank Senior Group President Rajat Monga were the candidates recommended by the lender's board to replace Rana Kapoor, reports added. The Reserve Bank of India has asked Kapoor to step down by January 31.\n",
      "실제 요약: Deutsche Bank's India CEO in race for Yes Bank CEO: Reports\n",
      "예측 요약: Gill and Yes Bank Senior Group President Rajat Monga were the candidates recommended by the lender's board to replace Rana Kapoor, reports added.\n",
      "\n",
      "\n",
      "원문: The country's trade deficit narrowed to a 10-month low of $13.08 billion in December, compared with $14.20 billion in the year-ago period. Lower crude oil prices and falling gold demand reduced the burden on the import bill. Merchandise exports rose just 0.34% from a year earlier to $27.93 billion, while imports fell 2.44% to $41.01 billion during the month.\n",
      "실제 요약: India's trade deficit hits 10-month low of $13.08 bn in December\n",
      "예측 요약: Merchandise exports rose just 0.34% from a year earlier to $27.93 billion, while imports fell 2.44% to $41.01 billion during the month.\n",
      "\n",
      "\n",
      "원문: Aviation Secretary Rajiv Nayan Choubey has said the country will add 1,000 aircraft over the next 7-8 years. In another 15 years, there will be 100 new airports, he added. India's domestic aviation growth, which has been the highest in the world, will be sustained for at least 20 more years if the oil prices are favourable, Choubey further said.\n",
      "실제 요약: India will add 1,000 aircraft in 7-8 years: Aviation Secretary\n",
      "예측 요약: Aviation Secretary Rajiv Nayan Choubey has said the country will add 1,000 aircraft over the next 7-8 years.\n",
      "\n",
      "\n",
      "원문: Ex-India batsman VVS Laxman has said that suspended cricketers Hardik Pandya and KL Rahul have been rightfully punished over their comments on women on 'Koffee with Karan'. \"We should show some empathy to them. They are young, it's a challenge for such young minds to be mature,\" he added. \"It's important to teach them how to conduct themselves,\" he added.\n",
      "실제 요약: We should show some empathy to Pandya and KL Rahul: VVS Laxman\n",
      "예측 요약: They are young, it's a challenge for such young minds to be mature,\" he added.\n",
      "\n",
      "\n",
      "원문: Ex-South Africa captain Jacques Kallis got married to his longtime girlfriend Charlene Engels at Bona Dea Estate in Western Cape last weekend. The wedding was threatened to be postponed after a wildfire damaged gardens and a building near the venue. \"It started with a fire...now we just need to keep the fire burning in our marriage,\" Charlene wrote on Instagram.\n",
      "실제 요약: Kallis marries longtime girlfriend amid wildfire near wedding venue\n",
      "예측 요약: Ex-South Africa captain Jacques Kallis got married to his longtime girlfriend Charlene Engels at Bona Dea Estate in Western Cape last weekend.\n",
      "\n",
      "\n",
      "원문: Apple COO Jeff Williams has said Qualcomm refused to provide modem chips for the 2018 iPhones after Apple sued the chipmaker in 2017. Williams added that Qualcomm's royalty fee of $7.50 per iPhone is too high. The US sued Qualcomm alleging the company used its dominant position to force customers to use its products and charge high patent licensing fees.n\n",
      "실제 요약: Qualcomm refused to provide chips for 2018 iPhones: Apple COO\n",
      "예측 요약: Williams added that Qualcomm's royalty fee of $7.50 per iPhone is too high.\n",
      "\n",
      "\n",
      "원문: After Congress President Rahul Gandhi took a dig at PM Narendra Modi on winning first-ever Philip Kotler Presidential Award, Union Minister Smriti Irani said, \"Rich!!! Coming from a person whose illustrious family decided to confer the 'Bharat Ratna' on themselves.\" Rahul called it a \"world famous\" award that had \"no jury\" and was backed by \"an unheard of Aligarh company\". \n",
      "실제 요약: Rahul's family gave Ã¢ÂÂBharat RatnaÃ¢ÂÂ to themselves: Smriti Irani\n",
      "예측 요약: After Congress President Rahul Gandhi took a dig at PM Narendra Modi on winning first-ever Philip Kotler Presidential Award, Union Minister Smriti Irani said, \"Rich!!!\n",
      "\n",
      "\n",
      "원문: Elon Musk-led electric carmaker Tesla has announced it will offer a brand new Model 3 car to cybersecurity researchers who will identify security bugs with the car's software at an annual cybersecurity contest 'Pwn2Own' in Canada. For the first time this year, the competition has added an automotive category. Tesla first launched a 'bug bounty' program in 2014.\n",
      "실제 요약: Tesla to give Model 3 car as reward for finding security bugs\n",
      "예측 요약: \n",
      "\n",
      "\n",
      "원문: Two men from Rajasthan's Hanumangarh district got used condoms wrapped in old newspaper in response to their RTI queries seeking details of development projects undertaken since 2001. \"I cannot believe the civic body can reply in such a foul manner,\" a recipient said. Meanwhile, Hanumangarh Zila Parishad CEO called it a \"mischievous act\" and assured a probe into the incident.\n",
      "실제 요약: Men file RTI query on development work, get used condoms in reply\n",
      "예측 요약: Two men from Rajasthan's Hanumangarh district got used condoms wrapped in old newspaper in response to their RTI queries seeking details of development projects undertaken since 2001.\n",
      "\n",
      "\n",
      "원문: At least six people died and 36 were rescued after a boat capsized in the Narmada river in Maharashtra's Nandurbar. \"The boat was carrying around 60 people who were on...way to perform a river worship ritual,\" an official said. It is suspected that the incident occurred as the boat was carrying more people than its capacity, the police said.\n",
      "실제 요약: 6 drown after boat capsizes in Narmada river, 36 rescued\n",
      "예측 요약: \"The boat was carrying around 60 people who were on...way to perform a river worship ritual,\" an official said.\n",
      "\n",
      "\n",
      "원문: A Russian man, whose car was loaded by authorities on a tow truck, got inside his vehicle and freed it before escaping. \"Step aside so I don't run you over,\" the man can be heard warning the authorities in a video of the incident that surfaced online. The bumper of the car got damaged as he reversed it.\n",
      "실제 요약: Russian man's car loaded on tow truck; he gets inside it & frees it\n",
      "예측 요약: A Russian man, whose car was loaded by authorities on a tow truck, got inside his vehicle and freed it before escaping.\n",
      "\n",
      "\n",
      "원문: Tulip Siddiq, a 36-year-old British MP, who was due to have a Caesarian section on Tuesday, has delayed the operation until Thursday to take part in the ongoing Brexit vote. Siddiq said it was \"worth fighting for a strong relationship between Britain and Europe\" even if she had to delay giving birth. Siddiq is the grand-daughter of Bangladesh's first President.\n",
      "실제 요약: British MP delays giving birth by 2 days to vote on Brexit\n",
      "예측 요약: Siddiq said it was \"worth fighting for a strong relationship between Britain and Europe\" even if she had to delay giving birth.\n",
      "\n",
      "\n",
      "원문: Ren Zhengfei, the billionaire Founder and CEO of Huawei, broke a years-long silence to reject claims that his company is used by China for spying. \"I still love my country, I support the Communist party, but I will never do anything to harm any country in the world,\" Ren added. The 74-year-old last spoke with foreign media in 2015.\n",
      "실제 요약: Huawei doesn't spy for China: Founder breaks years-long silence\n",
      "예측 요약: Ren Zhengfei, the billionaire Founder and CEO of Huawei, broke a years-long silence to reject claims that his company is used by China for spying.\n",
      "\n",
      "\n",
      "원문: In his first interview with the foreign media since 2015, Huawei Founder and CEO Ren Zhengfei said that he missed his daughter Meng Wanzhou \"very much\". Meng, who is Huawei's CFO, is in Canada facing extradition to the US on allegations of helping defraud banks to avoid sanctions on Iran. Ren also called US President Donald Trump \"a great President\".\n",
      "실제 요약: I miss my daughter 'very much': Huawei Founder breaks silence\n",
      "예측 요약: In his first interview with the foreign media since 2015, Huawei Founder and CEO Ren Zhengfei said that he missed his daughter Meng Wanzhou \"very much\".\n",
      "\n",
      "\n",
      "원문: Cathay Pacific has mistakenly sold its one-way first class flight tickets from Portugal to Hong Kong originally valued at $16,000 for economy rates of $1,512. Two weeks ago, the Hong Kong-based airline mistakenly sold business-class return tickets costing $16,000 from Vietnam to New York at $675. The airline said it would still give premium services to customers with those tickets.\n",
      "실제 요약: Cathay Pacific sells $16,000 ticket for $1,500; 2nd time in 2 weeks\n",
      "예측 요약: Two weeks ago, the Hong Kong-based airline mistakenly sold business-class return tickets costing $16,000 from Vietnam to New York at $675.\n",
      "\n",
      "\n",
      "원문: Kangana Ranaut revealed that she felt \"suffocated\" after the failure of her film 'Simran', as filmmakers Karan Johar, Rakesh Roshan and several others, singled her out for criticism. \"The industry was having these intense meetings to make sure I was put in my place,\" the actress added. Kangana further said that she felt \"cornered\" at the time. \n",
      "실제 요약: Karan Johar, Rakesh Roshan singled me out for criticism: Kangana\n",
      "예측 요약: Kangana Ranaut revealed that she felt \"suffocated\" after the failure of her film 'Simran', as filmmakers Karan Johar, Rakesh Roshan and several others, singled her out for criticism.\n",
      "\n",
      "\n",
      "원문: Actor Ranveer Singh said that when it comes to his film choices, playing it safe doesn't excite him as an artiste. \"I want to challenge myself, take bigger risks and entertain people who want to pay money to come to theatres to watch a good performance,\" the actor added. Ranveer further said he likes to \"become someone else on screen\".\n",
      "실제 요약: Playing it safe doesn't excite me: Ranveer on film choices\n",
      "예측 요약: Actor Ranveer Singh said that when it comes to his film choices, playing it safe doesn't excite him as an artiste.\n",
      "\n",
      "\n",
      "원문: Indian captain Virat Kohli now has seven more ODI tons than the combined number of ODI tons by England's Joe Root, Australia's Steve Smith and New Zealand's Kane Williamson. Kohli scored his 32nd ton in a winning cause in the second India-Australia ODI, helping India level the series 1-1. Kohli was named Man of the Match for his performance.\n",
      "실제 요약: Kohli has 7 more ODI tons than Root, Williamson, Smith combined\n",
      "예측 요약: Kohli scored his 32nd ton in a winning cause in the second India-Australia ODI, helping India level the series 1-1.\n",
      "\n",
      "\n",
      "원문: Croatian tennis player Ivo Karlovic became the oldest man to win a match at the Australian Open in over 40 years after serving 39 aces to go past Poland's Hubert Hurkacz. World number 73 Karlovic, who will turn 40 on February 28, also became the oldest winner at any Grand Slam since 40-year-old Jimmy Connors' win at 1992's US Open.\n",
      "실제 요약: Karlovic becomes oldest man in 40 yrs to win an Aus Open match\n",
      "예측 요약: \n",
      "\n",
      "\n",
      "원문: Microsoft has revealed that it will not provide any security updates or support for PCs running on 'Windows 7' after January 14, 2020. Users can still use 'Windows 7' but the company has said PCs \"will become more vulnerable to security risks\" after the support ends. 'Windows 7' was first released in October 2009.\n",
      "실제 요약: Microsoft to end all support for 'Windows 7' in 2020\n",
      "예측 요약: Microsoft has revealed that it will not provide any security updates or support for PCs running on 'Windows 7' after January 14, 2020.\n",
      "\n",
      "\n"
     ]
    }
   ],
   "source": [
    "for i in range(2000,2020):\n",
    "    print('원문:',temp['text'][i])\n",
    "    print('실제 요약:' ,temp['headlines'][i])\n",
    "    print('예측 요약:', summarize(temp['text'][i], words=15))\n",
    "    print('\\n')"
   ]
  },
  {
   "cell_type": "markdown",
   "id": "0e19ab37",
   "metadata": {},
   "source": [
    "## 회고\n",
    "loss값이 5에서 줄지를 않았다. gpu메모리부족으로 batchsize를 256으로 돌리지 못하여 128로 고정하고 hidden_size와 embedding_dim을 늘리거나 줄여주었는데, 늘리던 줄이던 변화는 없었다. 전처리의 과정에서 문제가 있다고 판단했다.\n",
    "\n",
    "번역내용은 처참했다. 실제번역과 전혀 다른 문장이 나온게 대다수였고, 단어를 추출하다 끝나거나 같은 말을 반복하거나 하였다. 때문에 문법은 당연히 맞지 않았다. 동사로 번역이 끝난 문장도 있었지만 핵심내용을 담지는 않았다.\n",
    "\n",
    "추출적 요약은 문법적으로나 내용적으로나 문제가 없었다. 이유는 추출적요약은 추상적요약과 달리 원문을 있는 그대로 가져왔기 때문에 문제가 있을 수 없었다. 하지만 원문의 사용비율이나 단어수를 제한을 원문의 문장수, 단어수 보다 적게 두었을 때 요약을 하지 못하였다."
   ]
  },
  {
   "cell_type": "code",
   "execution_count": null,
   "id": "656a1485",
   "metadata": {},
   "outputs": [],
   "source": []
  }
 ],
 "metadata": {
  "kernelspec": {
   "display_name": "Python 3 (ipykernel)",
   "language": "python",
   "name": "python3"
  },
  "language_info": {
   "codemirror_mode": {
    "name": "ipython",
    "version": 3
   },
   "file_extension": ".py",
   "mimetype": "text/x-python",
   "name": "python",
   "nbconvert_exporter": "python",
   "pygments_lexer": "ipython3",
   "version": "3.9.15"
  }
 },
 "nbformat": 4,
 "nbformat_minor": 5
}
