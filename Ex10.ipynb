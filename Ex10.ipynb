{
 "cells": [
  {
   "cell_type": "code",
   "execution_count": 1,
   "id": "fd09bde9",
   "metadata": {},
   "outputs": [],
   "source": [
    "import pandas as pd\n",
    "import re\n",
    "from tensorflow.keras.preprocessing.text import Tokenizer \n",
    "from tensorflow.keras.preprocessing.sequence import pad_sequences\n",
    "from tensorflow.keras.utils import to_categorical\n",
    "import numpy as np\n",
    "import os\n",
    "import unicodedata\n",
    "os.environ['KMP_DUPLICATE_LIB_OK']='True'"
   ]
  },
  {
   "cell_type": "markdown",
   "id": "64925c82",
   "metadata": {},
   "source": [
    "## 데이터 불러오기"
   ]
  },
  {
   "cell_type": "code",
   "execution_count": 2,
   "id": "3d7f2d83",
   "metadata": {},
   "outputs": [
    {
     "data": {
      "text/html": [
       "<div>\n",
       "<style scoped>\n",
       "    .dataframe tbody tr th:only-of-type {\n",
       "        vertical-align: middle;\n",
       "    }\n",
       "\n",
       "    .dataframe tbody tr th {\n",
       "        vertical-align: top;\n",
       "    }\n",
       "\n",
       "    .dataframe thead th {\n",
       "        text-align: right;\n",
       "    }\n",
       "</style>\n",
       "<table border=\"1\" class=\"dataframe\">\n",
       "  <thead>\n",
       "    <tr style=\"text-align: right;\">\n",
       "      <th></th>\n",
       "      <th>eng</th>\n",
       "      <th>fra</th>\n",
       "      <th>cc</th>\n",
       "    </tr>\n",
       "  </thead>\n",
       "  <tbody>\n",
       "    <tr>\n",
       "      <th>0</th>\n",
       "      <td>Go.</td>\n",
       "      <td>Va !</td>\n",
       "      <td>CC-BY 2.0 (France) Attribution: tatoeba.org #2...</td>\n",
       "    </tr>\n",
       "    <tr>\n",
       "      <th>1</th>\n",
       "      <td>Go.</td>\n",
       "      <td>Marche.</td>\n",
       "      <td>CC-BY 2.0 (France) Attribution: tatoeba.org #2...</td>\n",
       "    </tr>\n",
       "    <tr>\n",
       "      <th>2</th>\n",
       "      <td>Go.</td>\n",
       "      <td>En route !</td>\n",
       "      <td>CC-BY 2.0 (France) Attribution: tatoeba.org #2...</td>\n",
       "    </tr>\n",
       "    <tr>\n",
       "      <th>3</th>\n",
       "      <td>Go.</td>\n",
       "      <td>Bouge !</td>\n",
       "      <td>CC-BY 2.0 (France) Attribution: tatoeba.org #2...</td>\n",
       "    </tr>\n",
       "    <tr>\n",
       "      <th>4</th>\n",
       "      <td>Hi.</td>\n",
       "      <td>Salut !</td>\n",
       "      <td>CC-BY 2.0 (France) Attribution: tatoeba.org #5...</td>\n",
       "    </tr>\n",
       "  </tbody>\n",
       "</table>\n",
       "</div>"
      ],
      "text/plain": [
       "   eng         fra                                                 cc\n",
       "0  Go.        Va !  CC-BY 2.0 (France) Attribution: tatoeba.org #2...\n",
       "1  Go.     Marche.  CC-BY 2.0 (France) Attribution: tatoeba.org #2...\n",
       "2  Go.  En route !  CC-BY 2.0 (France) Attribution: tatoeba.org #2...\n",
       "3  Go.     Bouge !  CC-BY 2.0 (France) Attribution: tatoeba.org #2...\n",
       "4  Hi.     Salut !  CC-BY 2.0 (France) Attribution: tatoeba.org #5..."
      ]
     },
     "execution_count": 2,
     "metadata": {},
     "output_type": "execute_result"
    }
   ],
   "source": [
    "file_path = 'C:/users/juwon/practice_aiffel/translator_seq2seq/data/fra.txt'\n",
    "lines = pd.read_csv(file_path, names = ['eng', 'fra','cc'], sep='\\t')\n",
    "lines.head()"
   ]
  },
  {
   "cell_type": "code",
   "execution_count": 3,
   "id": "a7088dcf",
   "metadata": {},
   "outputs": [
    {
     "data": {
      "text/html": [
       "<div>\n",
       "<style scoped>\n",
       "    .dataframe tbody tr th:only-of-type {\n",
       "        vertical-align: middle;\n",
       "    }\n",
       "\n",
       "    .dataframe tbody tr th {\n",
       "        vertical-align: top;\n",
       "    }\n",
       "\n",
       "    .dataframe thead th {\n",
       "        text-align: right;\n",
       "    }\n",
       "</style>\n",
       "<table border=\"1\" class=\"dataframe\">\n",
       "  <thead>\n",
       "    <tr style=\"text-align: right;\">\n",
       "      <th></th>\n",
       "      <th>eng</th>\n",
       "      <th>fra</th>\n",
       "    </tr>\n",
       "  </thead>\n",
       "  <tbody>\n",
       "    <tr>\n",
       "      <th>3463</th>\n",
       "      <td>I'm relaxed.</td>\n",
       "      <td>Je suis détendue.</td>\n",
       "    </tr>\n",
       "    <tr>\n",
       "      <th>10287</th>\n",
       "      <td>I am in a spot.</td>\n",
       "      <td>Je suis dans un endroit.</td>\n",
       "    </tr>\n",
       "    <tr>\n",
       "      <th>8328</th>\n",
       "      <td>People change.</td>\n",
       "      <td>Les gens changent.</td>\n",
       "    </tr>\n",
       "    <tr>\n",
       "      <th>17395</th>\n",
       "      <td>Are you a golfer?</td>\n",
       "      <td>Es-tu golfeur ?</td>\n",
       "    </tr>\n",
       "    <tr>\n",
       "      <th>27357</th>\n",
       "      <td>We've got to talk.</td>\n",
       "      <td>Nous devons parler.</td>\n",
       "    </tr>\n",
       "  </tbody>\n",
       "</table>\n",
       "</div>"
      ],
      "text/plain": [
       "                      eng                       fra\n",
       "3463         I'm relaxed.         Je suis détendue.\n",
       "10287     I am in a spot.  Je suis dans un endroit.\n",
       "8328       People change.        Les gens changent.\n",
       "17395   Are you a golfer?           Es-tu golfeur ?\n",
       "27357  We've got to talk.       Nous devons parler."
      ]
     },
     "execution_count": 3,
     "metadata": {},
     "output_type": "execute_result"
    }
   ],
   "source": [
    "lines = lines[['eng', 'fra']][:33000]\n",
    "lines.sample(5)"
   ]
  },
  {
   "cell_type": "markdown",
   "id": "93a372cc",
   "metadata": {},
   "source": [
    "## 문장 전처리"
   ]
  },
  {
   "cell_type": "code",
   "execution_count": 4,
   "id": "3b1c5db1",
   "metadata": {},
   "outputs": [],
   "source": [
    "def to_ascii(sentence):\n",
    "    return ''.join(c for c in unicodedata.normalize('NFD', sentence) if unicodedata.category(c) != 'Mn')\n",
    "\n",
    "# https://wikidocs.net/86900 참고"
   ]
  },
  {
   "cell_type": "code",
   "execution_count": 34,
   "id": "7071eb80",
   "metadata": {},
   "outputs": [
    {
     "data": {
      "text/plain": [
       "'allez y !'"
      ]
     },
     "execution_count": 34,
     "metadata": {},
     "output_type": "execute_result"
    }
   ],
   "source": [
    "to_ascii(lines.fra[551])"
   ]
  },
  {
   "cell_type": "code",
   "execution_count": 6,
   "id": "0e229f8c",
   "metadata": {},
   "outputs": [],
   "source": [
    "def preprocessing_sentence(sentence):\n",
    "    to_ascii(sentence)\n",
    "    sentence = sentence.lower()\n",
    "    sentence = re.sub(r'([?.!,¿-])', r\" \\1 \", sentence)\n",
    "    sentence = re.sub(r'[\" \"]+' , \" \", sentence)\n",
    "    sentence = re.sub(r'[^a-zA-Z?.!,¿]+', r\" \", sentence)\n",
    "    sentence = sentence.strip()\n",
    "    return sentence"
   ]
  },
  {
   "cell_type": "code",
   "execution_count": 7,
   "id": "2952f54b",
   "metadata": {},
   "outputs": [],
   "source": [
    "lines.eng = lines.eng.apply(preprocessing_sentence)\n",
    "lines.fra = lines.fra.apply(preprocessing_sentence)"
   ]
  },
  {
   "cell_type": "code",
   "execution_count": 8,
   "id": "26eaf1eb",
   "metadata": {},
   "outputs": [
    {
     "data": {
      "text/plain": [
       "[['go', '.'], ['go', '.'], ['go', '.']]"
      ]
     },
     "execution_count": 8,
     "metadata": {},
     "output_type": "execute_result"
    }
   ],
   "source": [
    "input_text = [a.split() for a in lines.eng]\n",
    "\n",
    "encoder_input = input_text\n",
    "input_text[:3]"
   ]
  },
  {
   "cell_type": "code",
   "execution_count": 9,
   "id": "3e4ed9a6",
   "metadata": {},
   "outputs": [
    {
     "name": "stdout",
     "output_type": "stream",
     "text": [
      "[['<sos>', 'va', '!', '<eos>'], ['<sos>', 'marche', '.', '<eos>'], ['<sos>', 'en', 'route', '!', '<eos>']]\n",
      "[['<sos>', 'va', '!'], ['<sos>', 'marche', '.'], ['<sos>', 'en', 'route', '!']]\n",
      "[['va', '!', '<eos>'], ['marche', '.', '<eos>'], ['en', 'route', '!', '<eos>']]\n"
     ]
    }
   ],
   "source": [
    "output_text = [('<sos> '+a+' <eos>').split() for a in lines.fra]\n",
    "decoder_input = [a[:-1] for a in output_text]\n",
    "decoder_target = [a[1:] for a in output_text]\n",
    "print(output_text[:3])\n",
    "print(decoder_input[:3])\n",
    "print(decoder_target[:3])"
   ]
  },
  {
   "cell_type": "code",
   "execution_count": 125,
   "id": "f94aabbe",
   "metadata": {},
   "outputs": [
    {
     "name": "stdout",
     "output_type": "stream",
     "text": [
      "['go', 'ahead', '!']\n",
      "['<sos>', 'allez', 'y', '!', '<eos>']\n"
     ]
    }
   ],
   "source": [
    "print(input_text[551])\n",
    "print(output_text[551])"
   ]
  },
  {
   "cell_type": "code",
   "execution_count": 11,
   "id": "0a62d722",
   "metadata": {},
   "outputs": [
    {
     "data": {
      "text/plain": [
       "[[28, 1], [28, 1], [28, 1], [28, 1], [762, 1]]"
      ]
     },
     "execution_count": 11,
     "metadata": {},
     "output_type": "execute_result"
    }
   ],
   "source": [
    "eng_tokenizer = Tokenizer()\n",
    "eng_tokenizer.fit_on_texts(encoder_input)\n",
    "encoder_input = eng_tokenizer.texts_to_sequences(encoder_input)\n",
    "encoder_input[:5]"
   ]
  },
  {
   "cell_type": "markdown",
   "id": "1cc98991",
   "metadata": {},
   "source": [
    "## 문장 토큰화 및 패딩"
   ]
  },
  {
   "cell_type": "code",
   "execution_count": 12,
   "id": "b19cf1b8",
   "metadata": {},
   "outputs": [
    {
     "data": {
      "text/plain": [
       "[[1, 76, 8], [1, 366, 3], [1, 28, 513, 8], [1, 717, 8], [1, 751, 8]]"
      ]
     },
     "execution_count": 12,
     "metadata": {},
     "output_type": "execute_result"
    }
   ],
   "source": [
    "fra_tokenizer = Tokenizer(lower=False)\n",
    "fra_tokenizer.fit_on_texts(output_text)\n",
    "decoder_input = fra_tokenizer.texts_to_sequences(decoder_input)\n",
    "decoder_input[:5]"
   ]
  },
  {
   "cell_type": "code",
   "execution_count": 13,
   "id": "64c95dad",
   "metadata": {},
   "outputs": [
    {
     "data": {
      "text/plain": [
       "[[76, 8, 2], [366, 3, 2], [28, 513, 8, 2], [717, 8, 2], [751, 8, 2]]"
      ]
     },
     "execution_count": 13,
     "metadata": {},
     "output_type": "execute_result"
    }
   ],
   "source": [
    "fra_tokenizer = Tokenizer(lower=False)\n",
    "fra_tokenizer.fit_on_texts(output_text)\n",
    "decoder_target = fra_tokenizer.texts_to_sequences(decoder_target)\n",
    "decoder_target[:5]"
   ]
  },
  {
   "cell_type": "code",
   "execution_count": 14,
   "id": "2d67fd6f",
   "metadata": {},
   "outputs": [],
   "source": [
    "eng_voc_size = len(eng_tokenizer.word_index) + 1\n",
    "fra_voc_size = len(fra_tokenizer.word_index) + 1"
   ]
  },
  {
   "cell_type": "code",
   "execution_count": 15,
   "id": "1b7f6df0",
   "metadata": {},
   "outputs": [
    {
     "name": "stdout",
     "output_type": "stream",
     "text": [
      "영어 단어장 크기: 4672\n",
      "프랑스어 단어장 크기: 7455\n"
     ]
    }
   ],
   "source": [
    "print('영어 단어장 크기:',eng_voc_size)\n",
    "print('프랑스어 단어장 크기:',fra_voc_size)"
   ]
  },
  {
   "cell_type": "code",
   "execution_count": 10,
   "id": "b9d96f35",
   "metadata": {},
   "outputs": [
    {
     "name": "stdout",
     "output_type": "stream",
     "text": [
      "8\n",
      "16\n"
     ]
    }
   ],
   "source": [
    "maxlen_eng = max([len(a) for a in encoder_input])\n",
    "maxlen_fra = max([len(a) for a in decoder_input])\n",
    "print(maxlen_eng)\n",
    "print(maxlen_fra) # 시작, 종료토큰포함"
   ]
  },
  {
   "cell_type": "code",
   "execution_count": 16,
   "id": "f8aab1aa",
   "metadata": {},
   "outputs": [
    {
     "name": "stdout",
     "output_type": "stream",
     "text": [
      "영어 데이터의 크기(shape) : (33000, 8)\n",
      "프랑스어 입력데이터의 크기(shape) : (33000, 16)\n",
      "프랑스어 출력데이터의 크기(shape) : (33000, 16)\n"
     ]
    }
   ],
   "source": [
    "encoder_input = pad_sequences(encoder_input, padding='post', maxlen = maxlen_eng)\n",
    "decoder_input = pad_sequences(decoder_input, padding='post', maxlen = maxlen_fra)\n",
    "decoder_target = pad_sequences(decoder_target, padding ='post', maxlen = maxlen_fra)\n",
    "\n",
    "print('영어 데이터의 크기(shape) :',np.shape(encoder_input))\n",
    "print('프랑스어 입력데이터의 크기(shape) :',np.shape(decoder_input))\n",
    "print('프랑스어 출력데이터의 크기(shape) :',np.shape(decoder_target))"
   ]
  },
  {
   "cell_type": "markdown",
   "id": "567945a0",
   "metadata": {},
   "source": [
    "## 학습, 평가 데이터 분할"
   ]
  },
  {
   "cell_type": "code",
   "execution_count": 17,
   "id": "33991d18",
   "metadata": {},
   "outputs": [
    {
     "name": "stdout",
     "output_type": "stream",
     "text": [
      "영어 훈련 데이터 크기:  (30000, 8)\n",
      "프랑스 훈련 데이터 크기:  (30000, 16)\n",
      "프랑스 테스트 라벨 데이터 크기:  (3000, 16)\n"
     ]
    }
   ],
   "source": [
    "n_of_val = 3000\n",
    "\n",
    "encoder_input_train = encoder_input[:-n_of_val]\n",
    "decoder_input_train = decoder_input[:-n_of_val]\n",
    "decoder_target_train = decoder_target[:-n_of_val]\n",
    "\n",
    "encoder_input_test = encoder_input[-n_of_val:]\n",
    "decoder_input_test = decoder_input[-n_of_val:]\n",
    "decoder_target_test = decoder_target[-n_of_val:]\n",
    "\n",
    "print('영어 훈련 데이터 크기: ',encoder_input_train.shape)\n",
    "print('프랑스 훈련 데이터 크기: ',decoder_input_train.shape)\n",
    "print('프랑스 테스트 라벨 데이터 크기: ',decoder_target_test.shape)"
   ]
  },
  {
   "cell_type": "code",
   "execution_count": 18,
   "id": "9d03ef0a",
   "metadata": {},
   "outputs": [],
   "source": [
    "from tensorflow.keras.layers import Input, LSTM, Embedding, Dense, Masking\n",
    "from tensorflow.keras.models import Model"
   ]
  },
  {
   "cell_type": "markdown",
   "id": "28e9c082",
   "metadata": {},
   "source": [
    "## 인코더 설계"
   ]
  },
  {
   "cell_type": "code",
   "execution_count": 104,
   "id": "67b3a72e",
   "metadata": {},
   "outputs": [],
   "source": [
    "embbeding_dim = 64\n",
    "hidden_units = 128"
   ]
  },
  {
   "cell_type": "code",
   "execution_count": 105,
   "id": "7eb4500c",
   "metadata": {},
   "outputs": [],
   "source": [
    "encoder_inputs = Input(shape=(None,))\n",
    "encoder_embbeding = Embedding(eng_voc_size, embbeding_dim)(encoder_inputs)\n",
    "encoder_masking = Masking(mask_value = 0.0)(encoder_embbeding) \n",
    "encoder_lstm = LSTM(hidden_units, return_state = True)\n",
    "encoder_outputs, state_h, state_c =encoder_lstm(encoder_masking)\n",
    "encoder_states = [state_h, state_c]"
   ]
  },
  {
   "cell_type": "markdown",
   "id": "35016be3",
   "metadata": {},
   "source": [
    "## 디코더 입력 설계"
   ]
  },
  {
   "cell_type": "code",
   "execution_count": 106,
   "id": "3737a94e",
   "metadata": {},
   "outputs": [],
   "source": [
    "decoder_inputs = Input(shape=(None,))\n",
    "decoder_embbeding = Embedding(fra_voc_size, embbeding_dim)(decoder_inputs)\n",
    "decoder_masking = Masking(mask_value=0.0)(decoder_embbeding)\n",
    "decoder_lstm = LSTM(hidden_units, return_sequences = True, return_state = True)\n",
    "decoder_outputs, _, _ = decoder_lstm(decoder_masking, initial_state = encoder_states)"
   ]
  },
  {
   "cell_type": "markdown",
   "id": "5d50f178",
   "metadata": {},
   "source": [
    "## 디코더 출력"
   ]
  },
  {
   "cell_type": "code",
   "execution_count": 107,
   "id": "27a2a4d8",
   "metadata": {},
   "outputs": [],
   "source": [
    "decoder_softmax_layer = Dense(fra_voc_size, activation ='softmax')\n",
    "decoder_outputs = decoder_softmax_layer(decoder_outputs)"
   ]
  },
  {
   "cell_type": "code",
   "execution_count": 108,
   "id": "bc7553ce",
   "metadata": {},
   "outputs": [
    {
     "name": "stdout",
     "output_type": "stream",
     "text": [
      "Model: \"model_15\"\n",
      "__________________________________________________________________________________________________\n",
      " Layer (type)                   Output Shape         Param #     Connected to                     \n",
      "==================================================================================================\n",
      " input_21 (InputLayer)          [(None, None)]       0           []                               \n",
      "                                                                                                  \n",
      " input_22 (InputLayer)          [(None, None)]       0           []                               \n",
      "                                                                                                  \n",
      " embedding_10 (Embedding)       (None, None, 64)     299008      ['input_21[0][0]']               \n",
      "                                                                                                  \n",
      " embedding_11 (Embedding)       (None, None, 64)     477120      ['input_22[0][0]']               \n",
      "                                                                                                  \n",
      " masking_10 (Masking)           (None, None, 64)     0           ['embedding_10[0][0]']           \n",
      "                                                                                                  \n",
      " masking_11 (Masking)           (None, None, 64)     0           ['embedding_11[0][0]']           \n",
      "                                                                                                  \n",
      " lstm_10 (LSTM)                 [(None, 128),        98816       ['masking_10[0][0]']             \n",
      "                                 (None, 128),                                                     \n",
      "                                 (None, 128)]                                                     \n",
      "                                                                                                  \n",
      " lstm_11 (LSTM)                 [(None, None, 128),  98816       ['masking_11[0][0]',             \n",
      "                                 (None, 128),                     'lstm_10[0][1]',                \n",
      "                                 (None, 128)]                     'lstm_10[0][2]']                \n",
      "                                                                                                  \n",
      " dense_5 (Dense)                (None, None, 7455)   961695      ['lstm_11[0][0]']                \n",
      "                                                                                                  \n",
      "==================================================================================================\n",
      "Total params: 1,935,455\n",
      "Trainable params: 1,935,455\n",
      "Non-trainable params: 0\n",
      "__________________________________________________________________________________________________\n"
     ]
    }
   ],
   "source": [
    "model = Model([encoder_inputs, decoder_inputs], decoder_outputs)\n",
    "model.compile(optimizer ='rmsprop',\n",
    "             loss ='sparse_categorical_crossentropy')\n",
    "model.summary()"
   ]
  },
  {
   "cell_type": "code",
   "execution_count": 109,
   "id": "2516faac",
   "metadata": {
    "scrolled": true
   },
   "outputs": [
    {
     "name": "stdout",
     "output_type": "stream",
     "text": [
      "Epoch 1/23\n",
      "235/235 [==============================] - 25s 49ms/step - loss: 2.2563 - val_loss: 1.9682\n",
      "Epoch 2/23\n",
      "235/235 [==============================] - 7s 32ms/step - loss: 1.5714 - val_loss: 1.8154\n",
      "Epoch 3/23\n",
      "235/235 [==============================] - 7s 31ms/step - loss: 1.4108 - val_loss: 1.7094\n",
      "Epoch 4/23\n",
      "235/235 [==============================] - 7s 30ms/step - loss: 1.2900 - val_loss: 1.6161\n",
      "Epoch 5/23\n",
      "235/235 [==============================] - 7s 31ms/step - loss: 1.2045 - val_loss: 1.5244\n",
      "Epoch 6/23\n",
      "235/235 [==============================] - 7s 31ms/step - loss: 1.1396 - val_loss: 1.4787\n",
      "Epoch 7/23\n",
      "235/235 [==============================] - 7s 30ms/step - loss: 1.0859 - val_loss: 1.4208\n",
      "Epoch 8/23\n",
      "235/235 [==============================] - 7s 30ms/step - loss: 1.0378 - val_loss: 1.4031\n",
      "Epoch 9/23\n",
      "235/235 [==============================] - 7s 30ms/step - loss: 0.9969 - val_loss: 1.3733\n",
      "Epoch 10/23\n",
      "235/235 [==============================] - 7s 32ms/step - loss: 0.9594 - val_loss: 1.3372\n",
      "Epoch 11/23\n",
      "235/235 [==============================] - 7s 32ms/step - loss: 0.9266 - val_loss: 1.3185\n",
      "Epoch 12/23\n",
      "235/235 [==============================] - 7s 31ms/step - loss: 0.8971 - val_loss: 1.3009\n",
      "Epoch 13/23\n",
      "235/235 [==============================] - 7s 31ms/step - loss: 0.8704 - val_loss: 1.2848\n",
      "Epoch 14/23\n",
      "235/235 [==============================] - 7s 31ms/step - loss: 0.8465 - val_loss: 1.2753\n",
      "Epoch 15/23\n",
      "235/235 [==============================] - 7s 32ms/step - loss: 0.8241 - val_loss: 1.2698\n",
      "Epoch 16/23\n",
      "235/235 [==============================] - 7s 31ms/step - loss: 0.8027 - val_loss: 1.2537\n",
      "Epoch 17/23\n",
      "235/235 [==============================] - 7s 31ms/step - loss: 0.7828 - val_loss: 1.2451\n",
      "Epoch 18/23\n",
      "235/235 [==============================] - 7s 30ms/step - loss: 0.7631 - val_loss: 1.2297\n",
      "Epoch 19/23\n",
      "235/235 [==============================] - 7s 31ms/step - loss: 0.7455 - val_loss: 1.2262\n",
      "Epoch 20/23\n",
      "235/235 [==============================] - 7s 32ms/step - loss: 0.7279 - val_loss: 1.2244\n",
      "Epoch 21/23\n",
      "235/235 [==============================] - 7s 30ms/step - loss: 0.7122 - val_loss: 1.2186\n",
      "Epoch 22/23\n",
      "235/235 [==============================] - 7s 31ms/step - loss: 0.6965 - val_loss: 1.2185\n",
      "Epoch 23/23\n",
      "235/235 [==============================] - 7s 31ms/step - loss: 0.6807 - val_loss: 1.2127\n"
     ]
    }
   ],
   "source": [
    "epochs = 23\n",
    "batch_size = 128 \n",
    "history = model.fit(x=[encoder_input_train, decoder_input_train], y = decoder_target_train,\n",
    "         validation_data =([encoder_input_test, decoder_input_test], decoder_target_test),\n",
    "          batch_size=batch_size, epochs = epochs)"
   ]
  },
  {
   "cell_type": "code",
   "execution_count": 110,
   "id": "a0510a2e",
   "metadata": {},
   "outputs": [
    {
     "data": {
      "image/png": "[encoded data removed]",
      "text/plain": [
       "<Figure size 640x480 with 1 Axes>"
      ]
     },
     "metadata": {},
     "output_type": "display_data"
    }
   ],
   "source": [
    "import matplotlib.pyplot as plt\n",
    "train_loss = history.history['loss']\n",
    "val_loss = history.history['val_loss']\n",
    "epochs = range(1,epochs)\n",
    "plt.plot(epochs, train_loss,'b',label = 'Train_loss')\n",
    "plt.plot(epochs, val_loss,'r',label = 'Val_loss')\n",
    "plt.legend()\n",
    "plt.show()"
   ]
  },
  {
   "cell_type": "markdown",
   "id": "225ec203",
   "metadata": {},
   "source": [
    "## 모델 테스트하기"
   ]
  },
  {
   "cell_type": "code",
   "execution_count": 111,
   "id": "3dc17b91",
   "metadata": {},
   "outputs": [
    {
     "name": "stdout",
     "output_type": "stream",
     "text": [
      "Model: \"model_16\"\n",
      "_________________________________________________________________\n",
      " Layer (type)                Output Shape              Param #   \n",
      "=================================================================\n",
      " input_21 (InputLayer)       [(None, None)]            0         \n",
      "                                                                 \n",
      " embedding_10 (Embedding)    (None, None, 64)          299008    \n",
      "                                                                 \n",
      " masking_10 (Masking)        (None, None, 64)          0         \n",
      "                                                                 \n",
      " lstm_10 (LSTM)              [(None, 128),             98816     \n",
      "                              (None, 128),                       \n",
      "                              (None, 128)]                       \n",
      "                                                                 \n",
      "=================================================================\n",
      "Total params: 397,824\n",
      "Trainable params: 397,824\n",
      "Non-trainable params: 0\n",
      "_________________________________________________________________\n"
     ]
    }
   ],
   "source": [
    "encoder_model = Model(inputs= encoder_inputs, outputs= encoder_states)\n",
    "encoder_model.summary()"
   ]
  },
  {
   "cell_type": "code",
   "execution_count": 112,
   "id": "238118ea",
   "metadata": {},
   "outputs": [],
   "source": [
    "decoder_state_input_h = Input(shape=(hidden_units,))\n",
    "decoder_state_input_c = Input(shape=(hidden_units,))\n",
    "decoder_states_inputs = [decoder_state_input_h, decoder_state_input_c]\n",
    "\n",
    "decoder_outputs, state_h, state_c = decoder_lstm(decoder_embbeding, initial_state= decoder_states_inputs)\n",
    "decoder_states = [state_h, state_c]"
   ]
  },
  {
   "cell_type": "code",
   "execution_count": 113,
   "id": "85eb03e0",
   "metadata": {},
   "outputs": [
    {
     "name": "stdout",
     "output_type": "stream",
     "text": [
      "Model: \"model_17\"\n",
      "__________________________________________________________________________________________________\n",
      " Layer (type)                   Output Shape         Param #     Connected to                     \n",
      "==================================================================================================\n",
      " input_22 (InputLayer)          [(None, None)]       0           []                               \n",
      "                                                                                                  \n",
      " embedding_11 (Embedding)       (None, None, 64)     477120      ['input_22[0][0]']               \n",
      "                                                                                                  \n",
      " input_23 (InputLayer)          [(None, 128)]        0           []                               \n",
      "                                                                                                  \n",
      " input_24 (InputLayer)          [(None, 128)]        0           []                               \n",
      "                                                                                                  \n",
      " lstm_11 (LSTM)                 [(None, None, 128),  98816       ['embedding_11[0][0]',           \n",
      "                                 (None, 128),                     'input_23[0][0]',               \n",
      "                                 (None, 128)]                     'input_24[0][0]']               \n",
      "                                                                                                  \n",
      " dense_5 (Dense)                (None, None, 7455)   961695      ['lstm_11[1][0]']                \n",
      "                                                                                                  \n",
      "==================================================================================================\n",
      "Total params: 1,537,631\n",
      "Trainable params: 1,537,631\n",
      "Non-trainable params: 0\n",
      "__________________________________________________________________________________________________\n"
     ]
    }
   ],
   "source": [
    "decoder_outputs = decoder_softmax_layer(decoder_outputs)\n",
    "decoder_model = Model(inputs = [decoder_inputs]+ decoder_states_inputs, outputs=[decoder_outputs]+decoder_states)\n",
    "decoder_model.summary()"
   ]
  },
  {
   "cell_type": "code",
   "execution_count": 114,
   "id": "50916969",
   "metadata": {},
   "outputs": [],
   "source": [
    "eng2idx = eng_tokenizer.word_index\n",
    "fra2idx = fra_tokenizer.word_index\n",
    "idx2eng = eng_tokenizer.index_word\n",
    "idx2fra = fra_tokenizer.index_word"
   ]
  },
  {
   "cell_type": "code",
   "execution_count": 115,
   "id": "73cb818c",
   "metadata": {},
   "outputs": [],
   "source": [
    "def decode_sequence(input_seq): \n",
    "    state_values = encoder_model.predict(input_seq,verbose=0)\n",
    "    target_seq = np.zeros((1,1))\n",
    "    target_seq[0,0] = fra2idx['<sos>']\n",
    "    \n",
    "    stop_condition = False\n",
    "    decoded_sentence = ''\n",
    "    \n",
    "    while not stop_condition:\n",
    "        output_tokens, h, c = decoder_model.predict([target_seq] + state_values,verbose=0)\n",
    "        \n",
    "        sampled_token_index = np.argmax(output_tokens[0,-1,:])\n",
    "        sampled_seq = idx2fra[sampled_token_index]\n",
    "        \n",
    "        decoded_sentence += sampled_seq+ ' '\n",
    "        \n",
    "        if (sampled_seq=='<eos>' or len(decoded_sentence.split()) > maxlen_fra) : \n",
    "            stop_condition = True\n",
    "            \n",
    "        target_seq = np.zeros((1,1))\n",
    "        target_seq[0, 0] = sampled_token_index\n",
    "        \n",
    "        state_values= [h,c]\n",
    "    return decoded_sentence"
   ]
  },
  {
   "cell_type": "markdown",
   "id": "03790bef",
   "metadata": {},
   "source": [
    "## 비교해보기\n",
    "### 입력된 문장 출력"
   ]
  },
  {
   "cell_type": "code",
   "execution_count": 116,
   "id": "dab3bdcb",
   "metadata": {},
   "outputs": [],
   "source": [
    "def seq2input(input_seq):\n",
    "    sentence = ''\n",
    "    for token in input_seq :\n",
    "        if (token != 0) :\n",
    "            sentence += idx2eng[token]+ ' '\n",
    "    return sentence"
   ]
  },
  {
   "cell_type": "markdown",
   "id": "768b37ee",
   "metadata": {},
   "source": [
    "### 정답 문장 출력"
   ]
  },
  {
   "cell_type": "code",
   "execution_count": 117,
   "id": "9c044d02",
   "metadata": {},
   "outputs": [],
   "source": [
    "def seq2target(input_seq):\n",
    "    sentence =''\n",
    "    for token in input_seq :\n",
    "        if (token !=0 and token != fra2idx['<sos>'] and token != fra2idx['<eos>']) :\n",
    "            sentence += idx2fra[token] + ' '\n",
    "    return sentence"
   ]
  },
  {
   "cell_type": "code",
   "execution_count": 126,
   "id": "17297419",
   "metadata": {
    "scrolled": true
   },
   "outputs": [
    {
     "name": "stdout",
     "output_type": "stream",
     "text": [
      "입력된 문장:  go . \n",
      "정답 문장 :  en route ! \n",
      "번역한 문장:  va y ! \n",
      "--------------------------------------------------\n",
      "입력된 문장:  i left . \n",
      "정답 문장 :  je suis partie . \n",
      "번역한 문장:  j ai eu de l eau . \n",
      "--------------------------------------------------\n",
      "입력된 문장:  bury it . \n",
      "정답 문장 :  enterrez la . \n",
      "번역한 문장:  ceci . \n",
      "--------------------------------------------------\n",
      "입력된 문장:  go ahead ! \n",
      "정답 문장 :  allez y ! \n",
      "번역한 문장:  allez ! \n",
      "--------------------------------------------------\n",
      "입력된 문장:  here i am . \n",
      "정답 문장 :  me voici . \n",
      "번역한 문장:  je suis en s ! \n",
      "--------------------------------------------------\n"
     ]
    }
   ],
   "source": [
    "seq_index = [2,111,201,551,1000]\n",
    "for index in seq_index:\n",
    "    input_seq= encoder_input_train[index:index+1]\n",
    "    decoded_sequence = decode_sequence(input_seq)\n",
    "    print('입력된 문장: ', seq2input(encoder_input_train[index]))\n",
    "    print('정답 문장 : ',seq2target(decoder_input_train[index]))\n",
    "    print('번역한 문장: ', decoded_sequence[:-6])\n",
    "    print('-' *50)"
   ]
  },
  {
   "cell_type": "code",
   "execution_count": 127,
   "id": "3572fb58",
   "metadata": {},
   "outputs": [
    {
     "name": "stdout",
     "output_type": "stream",
     "text": [
      "입력된 문장:  i love korean food . \n",
      "정답 문장 :  j adore la cuisine cor enne . \n",
      "번역한 문장:  j aime le chien . \n",
      "--------------------------------------------------\n",
      "입력된 문장:  i often wear a hat . \n",
      "정답 문장 :  je porte souvent un chapeau . \n",
      "번역한 문장:  je mange des enfants . \n",
      "--------------------------------------------------\n",
      "입력된 문장:  i smoke cigarettes . \n",
      "정답 문장 :  je fume des cigarettes . \n",
      "번역한 문장:  je vais la maison . \n",
      "--------------------------------------------------\n",
      "입력된 문장:  i m as tall as you . \n",
      "정답 문장 :  je suis aussi grande que vous . \n",
      "번역한 문장:  je suis si grand gar on . \n",
      "--------------------------------------------------\n",
      "입력된 문장:  it wasn t very fun . \n",
      "정답 문장 :  ce ne fut pas tr s amusant . \n",
      "번역한 문장:  ce n tait pas un gar on . \n",
      "--------------------------------------------------\n"
     ]
    }
   ],
   "source": [
    "for index in seq_index:\n",
    "    input_seq= encoder_input_test[index:index+1]\n",
    "    decoded_sequence = decode_sequence(input_seq)\n",
    "    print('입력된 문장: ', seq2input(encoder_input_test[index]))\n",
    "    print('정답 문장 : ',seq2target(decoder_input_test[index]))\n",
    "    print('번역한 문장: ', decoded_sequence[:-6])\n",
    "    print('-' *50)"
   ]
  },
  {
   "cell_type": "markdown",
   "id": "3e3a303f",
   "metadata": {},
   "source": [
    "## 한국어로 번역 비교\n",
    "프랑스어를 영어로 바꿔주는 구글 번역기를 참고하여 적었습니다.\n",
    "\n",
    "### 1.Train\n",
    "입력된 문장:  go . 가자!   \n",
    "정답 문장 :  en route !   \n",
    "번역한 문장:  va y !   >> 영어로 번역한 문장 :go!, 가자! 번역 성공\n",
    "--------------------------------------------------\n",
    "입력된 문장:  i left . 나는 떠났다.   \n",
    "정답 문장 :  je suis partie .   \n",
    "번역한 문장:  j ai eu de l eau .   >> I had water,  '나는 물을 가졌다', 주어와 과거형은 맞추었다.\n",
    "--------------------------------------------------\n",
    "입력된 문장:  bury it . 묻어.   \n",
    "정답 문장 :  enterrez la .   \n",
    "번역한 문장:  ceci .   >> this, '이것', 동사를 번역하지 못했다.\n",
    "--------------------------------------------------\n",
    "입력된 문장:  go ahead ! 어서해!     \n",
    "정답 문장 :  allez y !    \n",
    "번역한 문장:  allez !   >> go ahead, '어서 해' , come on도 나오지만 비슷하므로 번역에 성공\n",
    "--------------------------------------------------\n",
    "입력된 문장:  here i am . 나 여기야   \n",
    "정답 문장 :  me voici .   \n",
    "번역한 문장:  je suis en s !   >> I am in s !, '나는 s에 있어' s라는 단어는 악센트가 생략된 것 같다. 하지만 입력된 문장은 나의 위치를 알리는 말이므로 성공했다고 볼 수 있다.\n",
    "--------------------------------------------------"
   ]
  },
  {
   "cell_type": "markdown",
   "id": "df751947",
   "metadata": {},
   "source": [
    "## 2. Test"
   ]
  },
  {
   "cell_type": "markdown",
   "id": "00690f2c",
   "metadata": {},
   "source": [
    "입력된 문장:  i love korean food . '나는 한국음식을 사랑한다.'    \n",
    "정답 문장 :  j adore la cuisine cor enne .    \n",
    "번역한 문장:  j aime le chien . '나는 개를 사랑한다.' 한국음식을 개로 번역했다.   \n",
    "--------------------------------------------------\n",
    "입력된 문장:  i often wear a hat . '나는 가끔 모자를 쓴다.'   \n",
    "정답 문장 :  je porte souvent un chapeau .    \n",
    "번역한 문장:  je mange des enfants .  '나는 아이들을 먹는다.'     \n",
    "--------------------------------------------------\n",
    "입력된 문장:  i smoke cigarettes . '나는 담배를 핀다.'   \n",
    "정답 문장 :  je fume des cigarettes .    \n",
    "번역한 문장:  je vais la maison . '나는 집에 가는중이다'   \n",
    "--------------------------------------------------\n",
    "입력된 문장:  i m as tall as you . '나는 너만큼 크다'   \n",
    "정답 문장 :  je suis aussi grande que vous .    \n",
    "번역한 문장:  je suis si grand gar on . '나는 꽤 큰 남자다.'   \n",
    "--------------------------------------------------\n",
    "입력된 문장:  it wasn t very fun . '그건 재미 있지 않았어.'   \n",
    "정답 문장 :  ce ne fut pas tr s amusant .    \n",
    "번역한 문장:  ce n tait pas un gar on . '그건 소년이 아니었어.'   \n",
    "--------------------------------------------------"
   ]
  },
  {
   "cell_type": "markdown",
   "id": "e116ca66",
   "metadata": {},
   "source": [
    "### 회고\n",
    "seq2seq의 모델구조를 이해하지 못하여 매우 힘든 과정이었다.   \n",
    "하지만 과정에 비해 결과가 만족스럽지 못했다.   \n",
    "Train같은 경우는 완벽히 맞춘 문장이 있었고, 못맞춘 문장은 문맥상 맞거나 동사 부분을 번역하지 못했다.   \n",
    "Test의 경우 완벽히 맞춘문장은 없었고 4번 문장이 문맥상 비슷했고, 나머지는 다른 의미로 번역을 했다.   \n",
    "Train은 이미 학습했던 문장을 한번 더 번역해보았기 때문에 정확도가 높았고, test는 학습하지 않았던 문장을 넣어줬기 때문에\n",
    "위와 같은 결과가 나왔다고 생각한다.     \n",
    "test문장의 정확도 향상을 위해서 임베딩 차원수와 lstm유닛수를 조절해봐야 할 것 같다."
   ]
  },
  {
   "cell_type": "code",
   "execution_count": null,
   "id": "771a9a01",
   "metadata": {},
   "outputs": [],
   "source": []
  }
 ],
 "metadata": {
  "kernelspec": {
   "display_name": "Python 3 (ipykernel)",
   "language": "python",
   "name": "python3"
  },
  "language_info": {
   "codemirror_mode": {
    "name": "ipython",
    "version": 3
   },
   "file_extension": ".py",
   "mimetype": "text/x-python",
   "name": "python",
   "nbconvert_exporter": "python",
   "pygments_lexer": "ipython3",
   "version": "3.9.15"
  }
 },
 "nbformat": 4,
 "nbformat_minor": 5
}
